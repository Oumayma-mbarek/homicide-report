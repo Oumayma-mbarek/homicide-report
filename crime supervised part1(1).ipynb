{
 "cells": [
  {
   "cell_type": "code",
   "execution_count": 1,
   "metadata": {},
   "outputs": [],
   "source": [
    "import pandas as pd \n",
    "import numpy as np \n",
    "import matplotlib.pyplot as plt\n",
    "import seaborn as sns "
   ]
  },
  {
   "cell_type": "code",
   "execution_count": 2,
   "metadata": {},
   "outputs": [],
   "source": [
    "data=pd.read_csv(\"database.csv.zip\",low_memory=False)"
   ]
  },
  {
   "cell_type": "code",
   "execution_count": 3,
   "metadata": {},
   "outputs": [],
   "source": [
    "data= data[data[\"Perpetrator Age\"].str.contains(' ') == False]\n",
    "data[\"Perpetrator Age\"] = data[\"Perpetrator Age\"].astype(int)"
   ]
  },
  {
   "cell_type": "markdown",
   "metadata": {},
   "source": [
    "# Data Preprocessing"
   ]
  },
  {
   "cell_type": "code",
   "execution_count": 4,
   "metadata": {},
   "outputs": [],
   "source": [
    "idx_to_drop=data[data[\"Crime Solved\"]==\"No\"].index\n",
    "data.drop(idx_to_drop,inplace=True)"
   ]
  },
  {
   "cell_type": "code",
   "execution_count": 5,
   "metadata": {},
   "outputs": [],
   "source": [
    "data.drop([\"Record ID\",\"Agency Code\",\"Agency Name\",\"Agency Type\",\"Record Source\"],axis=1,inplace=True)"
   ]
  },
  {
   "cell_type": "code",
   "execution_count": 6,
   "metadata": {},
   "outputs": [],
   "source": [
    "from sklearn.preprocessing import LabelEncoder\n",
    "encoder=LabelEncoder()"
   ]
  },
  {
   "cell_type": "code",
   "execution_count": 7,
   "metadata": {},
   "outputs": [],
   "source": [
    "data.loc[:,\"Perpetrator Sex\"]=data.loc[:,\"Perpetrator Sex\"].map({\"Male\":int(1),\"Female\":int(2),\"Unknown\":int(0)})"
   ]
  },
  {
   "cell_type": "code",
   "execution_count": 8,
   "metadata": {},
   "outputs": [],
   "source": [
    "data.loc[:,\"Victim Sex\"]=data.loc[:,\"Victim Sex\"].map({\"Male\":int(1),\"Female\":int(2),\"Unknown\":int(0)})"
   ]
  },
  {
   "cell_type": "code",
   "execution_count": 9,
   "metadata": {},
   "outputs": [],
   "source": [
    "data.loc[:,\"Perpetrator Race\"]=data.loc[:,\"Perpetrator Race\"].map({'Native American/Alaska Native':int(1),'White':int(2),'Black':int(3),'Asian/Pacific Islander':int(4),'Unknown':int(0)})"
   ]
  },
  {
   "cell_type": "code",
   "execution_count": 10,
   "metadata": {},
   "outputs": [],
   "source": [
    "data.loc[:,\"Victim Race\"]=data.loc[:,\"Victim Race\"].map({'Native American/Alaska Native':int(1),'White':int(2),'Black':int(3),'Asian/Pacific Islander':int(4),'Unknown':int(0)})"
   ]
  },
  {
   "cell_type": "code",
   "execution_count": 11,
   "metadata": {},
   "outputs": [],
   "source": [
    "data=data[data['Victim Age']<100]"
   ]
  },
  {
   "cell_type": "code",
   "execution_count": 12,
   "metadata": {},
   "outputs": [],
   "source": [
    "data.loc[:,\"Perpetrator Ethnicity\"]=data.loc[:,\"Perpetrator Ethnicity\"].map({\"Unknown\":int(0),\"Not Hispanic\":int(1),\"Hispanic\":int(2)})"
   ]
  },
  {
   "cell_type": "code",
   "execution_count": 13,
   "metadata": {},
   "outputs": [],
   "source": [
    "data.loc[:,\"Victim Ethnicity\"]=data.loc[:,\"Victim Ethnicity\"].map({\"Unknown\":int(0),\"Not Hispanic\":int(1),\"Hispanic\":int(2)})"
   ]
  },
  {
   "cell_type": "code",
   "execution_count": 14,
   "metadata": {},
   "outputs": [],
   "source": [
    "data.loc[:,\"Relationship\"]=(encoder.fit_transform(data.loc[:,\"Relationship\"])).astype(\"int64\")"
   ]
  },
  {
   "cell_type": "code",
   "execution_count": 15,
   "metadata": {},
   "outputs": [],
   "source": [
    "data.loc[:,\"Weapon\"]=(encoder.fit_transform(data.loc[:,\"Weapon\"])).astype(\"int64\")"
   ]
  },
  {
   "cell_type": "code",
   "execution_count": 16,
   "metadata": {},
   "outputs": [],
   "source": [
    "data.loc[:,\"City\"]=(encoder.fit_transform(data.loc[:,\"City\"])).astype(\"int64\")"
   ]
  },
  {
   "cell_type": "code",
   "execution_count": 17,
   "metadata": {},
   "outputs": [],
   "source": [
    "data.loc[:,\"State\"]=(encoder.fit_transform(data.loc[:,\"State\"])).astype(\"int64\")"
   ]
  },
  {
   "cell_type": "code",
   "execution_count": 18,
   "metadata": {},
   "outputs": [],
   "source": [
    "data.loc[:,\"Month\"]=data.loc[:,\"Month\"].map(({'January':int(1),\"February\":int(2),\"March\":int(3),'April':int(4),'May':int(5),'June':int(6),'July':int(7),'August':int(8),'September':int(9),'October':int(10),'November':int(11),'December':int(12)})).astype(\"int64\")"
   ]
  },
  {
   "cell_type": "code",
   "execution_count": 19,
   "metadata": {},
   "outputs": [],
   "source": [
    "data.loc[:,\"Crime Solved\"]=data.loc[:,\"Crime Solved\"].map({\"Yes\":int(1),\"No\":int(0)})"
   ]
  },
  {
   "cell_type": "code",
   "execution_count": 20,
   "metadata": {},
   "outputs": [],
   "source": [
    "data.loc[:,\"Crime Type\"]=data.loc[:,\"Crime Type\"].map({'Murder or Manslaughter':int(1),'Manslaughter by Negligence':int(2)})"
   ]
  },
  {
   "cell_type": "markdown",
   "metadata": {},
   "source": [
    "# Supervised Machine learning"
   ]
  },
  {
   "cell_type": "code",
   "execution_count": 21,
   "metadata": {},
   "outputs": [],
   "source": [
    "from sklearn.model_selection import train_test_split"
   ]
  },
  {
   "cell_type": "code",
   "execution_count": 22,
   "metadata": {},
   "outputs": [],
   "source": [
    "newdata=data[(data[\"Perpetrator Race\"]!=0)& (data[\"Perpetrator Sex\"]!=0)]\n",
    "newdata=newdata[newdata[\"Perpetrator Ethnicity\"]!=0]"
   ]
  },
  {
   "cell_type": "code",
   "execution_count": 23,
   "metadata": {},
   "outputs": [],
   "source": [
    "x=newdata[[\"State\",\"Year\",\"Month\",\"Victim Count\",\"Perpetrator Count\",\n",
    "           \"Victim Sex\",\"Victim Age\",\"Victim Race\",\"Victim Ethnicity\",\n",
    "          \"Weapon\",\"Relationship\",\"Crime Type\"]]\n",
    "y=newdata[[\"Perpetrator Sex\",\"Perpetrator Race\",\"Perpetrator Ethnicity\"]]"
   ]
  },
  {
   "cell_type": "code",
   "execution_count": 24,
   "metadata": {},
   "outputs": [],
   "source": [
    "x_train,x_test,y_train,y_test=train_test_split(x,y,test_size=0.2,random_state=6)"
   ]
  },
  {
   "cell_type": "code",
   "execution_count": 25,
   "metadata": {},
   "outputs": [],
   "source": [
    "from sklearn.ensemble import RandomForestClassifier \n",
    "from sklearn.linear_model import LogisticRegression \n",
    "from sklearn.linear_model import LinearRegression \n",
    "from sklearn.neighbors import KNeighborsClassifier\n",
    "from sklearn import metrics"
   ]
  },
  {
   "cell_type": "markdown",
   "metadata": {},
   "source": [
    "#### Predicting Perpetrator's Sex"
   ]
  },
  {
   "cell_type": "markdown",
   "metadata": {},
   "source": [
    "1. Logistic Regression"
   ]
  },
  {
   "cell_type": "code",
   "execution_count": 26,
   "metadata": {},
   "outputs": [
    {
     "name": "stdout",
     "output_type": "stream",
     "text": [
      "0.8897771507693916\n"
     ]
    }
   ],
   "source": [
    "loregsex=LogisticRegression(solver='lbfgs', multi_class='auto',dual = False,max_iter=1000)\n",
    "loregsex.fit(x_train,y_train[\"Perpetrator Sex\"])\n",
    "y_sex_pred=loregsex.predict(x_test)\n",
    "print(metrics.accuracy_score(y_test[\"Perpetrator Sex\"],y_sex_pred))"
   ]
  },
  {
   "cell_type": "markdown",
   "metadata": {},
   "source": [
    "2. Random Forest"
   ]
  },
  {
   "cell_type": "code",
   "execution_count": 27,
   "metadata": {},
   "outputs": [
    {
     "name": "stdout",
     "output_type": "stream",
     "text": [
      "0.9356271390129843\n"
     ]
    }
   ],
   "source": [
    "clfsex=RandomForestClassifier(n_estimators=100)\n",
    "clfsex.fit(x_train,y_train[\"Perpetrator Sex\"])\n",
    "y_sex_pred=clfsex.predict(x_test)\n",
    "print(metrics.accuracy_score(y_test[\"Perpetrator Sex\"],y_sex_pred))"
   ]
  },
  {
   "cell_type": "markdown",
   "metadata": {},
   "source": [
    "3. K-nearest neighbors"
   ]
  },
  {
   "cell_type": "code",
   "execution_count": 28,
   "metadata": {},
   "outputs": [
    {
     "name": "stdout",
     "output_type": "stream",
     "text": [
      "0.8941923348224783\n"
     ]
    }
   ],
   "source": [
    "knnsex=KNeighborsClassifier(n_neighbors=20)\n",
    "knnsex.fit(x_train,y_train[\"Perpetrator Sex\"])\n",
    "y_sex_pred=knnsex.predict(x_test)\n",
    "print(metrics.accuracy_score(y_test[\"Perpetrator Sex\"],y_sex_pred))"
   ]
  },
  {
   "cell_type": "markdown",
   "metadata": {},
   "source": [
    "The best model in this case is the Random Forest"
   ]
  },
  {
   "cell_type": "markdown",
   "metadata": {},
   "source": [
    "#### Predicting Perpetrator's Race"
   ]
  },
  {
   "cell_type": "markdown",
   "metadata": {},
   "source": [
    "1. Logisitic Regression"
   ]
  },
  {
   "cell_type": "code",
   "execution_count": 29,
   "metadata": {},
   "outputs": [],
   "source": [
    "one_hot=pd.get_dummies(y['Perpetrator Race'])\n"
   ]
  },
  {
   "cell_type": "code",
   "execution_count": 30,
   "metadata": {},
   "outputs": [
    {
     "data": {
      "text/html": [
       "<div>\n",
       "<style scoped>\n",
       "    .dataframe tbody tr th:only-of-type {\n",
       "        vertical-align: middle;\n",
       "    }\n",
       "\n",
       "    .dataframe tbody tr th {\n",
       "        vertical-align: top;\n",
       "    }\n",
       "\n",
       "    .dataframe thead th {\n",
       "        text-align: right;\n",
       "    }\n",
       "</style>\n",
       "<table border=\"1\" class=\"dataframe\">\n",
       "  <thead>\n",
       "    <tr style=\"text-align: right;\">\n",
       "      <th></th>\n",
       "      <th>1</th>\n",
       "      <th>2</th>\n",
       "      <th>3</th>\n",
       "      <th>4</th>\n",
       "    </tr>\n",
       "  </thead>\n",
       "  <tbody>\n",
       "    <tr>\n",
       "      <th>44</th>\n",
       "      <td>1</td>\n",
       "      <td>0</td>\n",
       "      <td>0</td>\n",
       "      <td>0</td>\n",
       "    </tr>\n",
       "    <tr>\n",
       "      <th>52</th>\n",
       "      <td>0</td>\n",
       "      <td>0</td>\n",
       "      <td>1</td>\n",
       "      <td>0</td>\n",
       "    </tr>\n",
       "    <tr>\n",
       "      <th>53</th>\n",
       "      <td>0</td>\n",
       "      <td>1</td>\n",
       "      <td>0</td>\n",
       "      <td>0</td>\n",
       "    </tr>\n",
       "    <tr>\n",
       "      <th>54</th>\n",
       "      <td>0</td>\n",
       "      <td>0</td>\n",
       "      <td>1</td>\n",
       "      <td>0</td>\n",
       "    </tr>\n",
       "    <tr>\n",
       "      <th>58</th>\n",
       "      <td>0</td>\n",
       "      <td>1</td>\n",
       "      <td>0</td>\n",
       "      <td>0</td>\n",
       "    </tr>\n",
       "  </tbody>\n",
       "</table>\n",
       "</div>"
      ],
      "text/plain": [
       "    1  2  3  4\n",
       "44  1  0  0  0\n",
       "52  0  0  1  0\n",
       "53  0  1  0  0\n",
       "54  0  0  1  0\n",
       "58  0  1  0  0"
      ]
     },
     "execution_count": 30,
     "metadata": {},
     "output_type": "execute_result"
    }
   ],
   "source": [
    "one_hot.head()"
   ]
  },
  {
   "cell_type": "code",
   "execution_count": 31,
   "metadata": {},
   "outputs": [],
   "source": [
    "y=y.join(one_hot)"
   ]
  },
  {
   "cell_type": "code",
   "execution_count": 32,
   "metadata": {},
   "outputs": [
    {
     "data": {
      "text/html": [
       "<div>\n",
       "<style scoped>\n",
       "    .dataframe tbody tr th:only-of-type {\n",
       "        vertical-align: middle;\n",
       "    }\n",
       "\n",
       "    .dataframe tbody tr th {\n",
       "        vertical-align: top;\n",
       "    }\n",
       "\n",
       "    .dataframe thead th {\n",
       "        text-align: right;\n",
       "    }\n",
       "</style>\n",
       "<table border=\"1\" class=\"dataframe\">\n",
       "  <thead>\n",
       "    <tr style=\"text-align: right;\">\n",
       "      <th></th>\n",
       "      <th>Perpetrator Sex</th>\n",
       "      <th>Perpetrator Race</th>\n",
       "      <th>Perpetrator Ethnicity</th>\n",
       "      <th>1</th>\n",
       "      <th>2</th>\n",
       "      <th>3</th>\n",
       "      <th>4</th>\n",
       "    </tr>\n",
       "  </thead>\n",
       "  <tbody>\n",
       "    <tr>\n",
       "      <th>44</th>\n",
       "      <td>1</td>\n",
       "      <td>1</td>\n",
       "      <td>1</td>\n",
       "      <td>1</td>\n",
       "      <td>0</td>\n",
       "      <td>0</td>\n",
       "      <td>0</td>\n",
       "    </tr>\n",
       "    <tr>\n",
       "      <th>52</th>\n",
       "      <td>1</td>\n",
       "      <td>3</td>\n",
       "      <td>1</td>\n",
       "      <td>0</td>\n",
       "      <td>0</td>\n",
       "      <td>1</td>\n",
       "      <td>0</td>\n",
       "    </tr>\n",
       "    <tr>\n",
       "      <th>53</th>\n",
       "      <td>2</td>\n",
       "      <td>2</td>\n",
       "      <td>1</td>\n",
       "      <td>0</td>\n",
       "      <td>1</td>\n",
       "      <td>0</td>\n",
       "      <td>0</td>\n",
       "    </tr>\n",
       "    <tr>\n",
       "      <th>54</th>\n",
       "      <td>1</td>\n",
       "      <td>3</td>\n",
       "      <td>1</td>\n",
       "      <td>0</td>\n",
       "      <td>0</td>\n",
       "      <td>1</td>\n",
       "      <td>0</td>\n",
       "    </tr>\n",
       "    <tr>\n",
       "      <th>58</th>\n",
       "      <td>1</td>\n",
       "      <td>2</td>\n",
       "      <td>1</td>\n",
       "      <td>0</td>\n",
       "      <td>1</td>\n",
       "      <td>0</td>\n",
       "      <td>0</td>\n",
       "    </tr>\n",
       "  </tbody>\n",
       "</table>\n",
       "</div>"
      ],
      "text/plain": [
       "    Perpetrator Sex  Perpetrator Race  Perpetrator Ethnicity  1  2  3  4\n",
       "44                1                 1                      1  1  0  0  0\n",
       "52                1                 3                      1  0  0  1  0\n",
       "53                2                 2                      1  0  1  0  0\n",
       "54                1                 3                      1  0  0  1  0\n",
       "58                1                 2                      1  0  1  0  0"
      ]
     },
     "execution_count": 32,
     "metadata": {},
     "output_type": "execute_result"
    }
   ],
   "source": [
    "y.head()"
   ]
  },
  {
   "cell_type": "code",
   "execution_count": 33,
   "metadata": {},
   "outputs": [],
   "source": [
    "## 1 Native American/Alaska Native\n",
    "##2  'White':\n",
    "##3    Black\n",
    "##4   Asian/Pacific Islander"
   ]
  },
  {
   "cell_type": "markdown",
   "metadata": {},
   "source": [
    "1. \n",
    "    a. predicting native american /alaska native race "
   ]
  },
  {
   "cell_type": "code",
   "execution_count": 34,
   "metadata": {},
   "outputs": [],
   "source": [
    "x_train1,x_test1,y_train1,y_test1=train_test_split(x,y[1],test_size=0.2)"
   ]
  },
  {
   "cell_type": "code",
   "execution_count": 35,
   "metadata": {},
   "outputs": [
    {
     "name": "stdout",
     "output_type": "stream",
     "text": [
      "0.990856127700708\n"
     ]
    }
   ],
   "source": [
    "loregrace1=LogisticRegression(solver='lbfgs',multi_class='auto',dual=False ,max_iter=1000)\n",
    "loregrace1.fit(x_train1,y_train1)\n",
    "y_nativeamerican_pred=loregrace1.predict(x_test1)\n",
    "print(metrics.accuracy_score(y_test1,y_nativeamerican_pred))"
   ]
  },
  {
   "cell_type": "markdown",
   "metadata": {},
   "source": [
    "1. b. predicting white race "
   ]
  },
  {
   "cell_type": "code",
   "execution_count": 36,
   "metadata": {},
   "outputs": [],
   "source": [
    "x_train2,x_test2,y_train2,y_test2=train_test_split(x,y[2],test_size=0.2)"
   ]
  },
  {
   "cell_type": "code",
   "execution_count": 37,
   "metadata": {},
   "outputs": [
    {
     "name": "stdout",
     "output_type": "stream",
     "text": [
      "0.8765054732607048\n"
     ]
    }
   ],
   "source": [
    "loregrace2=LogisticRegression(solver='lbfgs', multi_class='auto',dual = False,max_iter=1000)\n",
    "loregrace2.fit(x_train2,y_train2)\n",
    "y_white_pred=loregrace2.predict(x_test2)\n",
    "print(metrics.accuracy_score(y_test2,y_white_pred))"
   ]
  },
  {
   "cell_type": "markdown",
   "metadata": {},
   "source": [
    "1. c. predicting black race "
   ]
  },
  {
   "cell_type": "code",
   "execution_count": 38,
   "metadata": {},
   "outputs": [],
   "source": [
    "x_train3,x_test3,y_train3,y_test3=train_test_split(x,y[3],test_size=0.2)"
   ]
  },
  {
   "cell_type": "code",
   "execution_count": 39,
   "metadata": {},
   "outputs": [
    {
     "name": "stdout",
     "output_type": "stream",
     "text": [
      "0.8753820832353633\n"
     ]
    }
   ],
   "source": [
    "loregrace3=LogisticRegression(solver='lbfgs', multi_class='auto',dual = False,max_iter=1000)\n",
    "loregrace3.fit(x_train3,y_train3)\n",
    "y_black_pred=loregrace3.predict(x_test3)\n",
    "print(metrics.accuracy_score(y_test3,y_black_pred))"
   ]
  },
  {
   "cell_type": "markdown",
   "metadata": {},
   "source": [
    "1. d. predicting asian race "
   ]
  },
  {
   "cell_type": "code",
   "execution_count": 40,
   "metadata": {},
   "outputs": [],
   "source": [
    "x_train4,x_test4,y_train4,y_test4=train_test_split(x,y[4],test_size=0.2)"
   ]
  },
  {
   "cell_type": "code",
   "execution_count": 41,
   "metadata": {},
   "outputs": [
    {
     "name": "stdout",
     "output_type": "stream",
     "text": [
      "0.9833581524152886\n"
     ]
    }
   ],
   "source": [
    "loregrace4=LogisticRegression(solver='lbfgs', multi_class='auto',dual = False,max_iter=1000)\n",
    "loregrace4.fit(x_train4,y_train4)\n",
    "y_asian_pred=loregrace4.predict(x_test4)\n",
    "print(metrics.accuracy_score(y_test4,y_asian_pred))"
   ]
  },
  {
   "cell_type": "markdown",
   "metadata": {},
   "source": [
    "since it is more detailed because we devided one feature into four features , the model is better with the logistic regression"
   ]
  },
  {
   "cell_type": "markdown",
   "metadata": {},
   "source": [
    "2. Random Forest"
   ]
  },
  {
   "cell_type": "code",
   "execution_count": 42,
   "metadata": {},
   "outputs": [
    {
     "name": "stdout",
     "output_type": "stream",
     "text": [
      "0.8647751913681846\n"
     ]
    }
   ],
   "source": [
    "clfrace=RandomForestClassifier(n_estimators=100)\n",
    "clfrace.fit(x_train,y_train[\"Perpetrator Race\"])\n",
    "y_race_pred=clfrace.predict(x_test)\n",
    "print(metrics.accuracy_score(y_test[\"Perpetrator Race\"],y_race_pred))"
   ]
  },
  {
   "cell_type": "markdown",
   "metadata": {},
   "source": [
    "3. K-nearest neighbors"
   ]
  },
  {
   "cell_type": "code",
   "execution_count": 43,
   "metadata": {},
   "outputs": [
    {
     "name": "stdout",
     "output_type": "stream",
     "text": [
      "0.6807482300075763\n"
     ]
    }
   ],
   "source": [
    "knnrace=KNeighborsClassifier(n_neighbors=20)\n",
    "knnrace.fit(x_train,y_train[\"Perpetrator Race\"])\n",
    "y_race_pred=knnrace.predict(x_test)\n",
    "print(metrics.accuracy_score(y_test[\"Perpetrator Race\"],y_race_pred))"
   ]
  },
  {
   "cell_type": "markdown",
   "metadata": {},
   "source": [
    "Once again, Random Forest is te best model\n"
   ]
  },
  {
   "cell_type": "markdown",
   "metadata": {},
   "source": [
    "#### Perpetrator's Ethnicity"
   ]
  },
  {
   "cell_type": "markdown",
   "metadata": {},
   "source": [
    "2. Random Forest"
   ]
  },
  {
   "cell_type": "code",
   "execution_count": 44,
   "metadata": {},
   "outputs": [
    {
     "name": "stdout",
     "output_type": "stream",
     "text": [
      "0.8936175771350942\n"
     ]
    }
   ],
   "source": [
    "clfethnicity=RandomForestClassifier(n_estimators=100)\n",
    "clfethnicity.fit(x_train,y_train[\"Perpetrator Ethnicity\"])\n",
    "y_ethnicity_pred=clfethnicity.predict(x_test)\n",
    "print(metrics.accuracy_score(y_test[\"Perpetrator Ethnicity\"],y_ethnicity_pred))"
   ]
  },
  {
   "cell_type": "markdown",
   "metadata": {},
   "source": [
    "3. K-nearest neighbors"
   ]
  },
  {
   "cell_type": "code",
   "execution_count": 45,
   "metadata": {},
   "outputs": [
    {
     "name": "stdout",
     "output_type": "stream",
     "text": [
      "0.7951772604958591\n"
     ]
    }
   ],
   "source": [
    "knnethnicity=KNeighborsClassifier(n_neighbors=20)\n",
    "knnethnicity.fit(x_train,y_train[\"Perpetrator Ethnicity\"])\n",
    "y_ethnicity_pred=knnethnicity.predict(x_test)\n",
    "print(metrics.accuracy_score(y_test[\"Perpetrator Ethnicity\"],y_ethnicity_pred))"
   ]
  },
  {
   "cell_type": "markdown",
   "metadata": {},
   "source": [
    "1. logistic Regression"
   ]
  },
  {
   "cell_type": "code",
   "execution_count": 46,
   "metadata": {},
   "outputs": [
    {
     "name": "stdout",
     "output_type": "stream",
     "text": [
      "0.8981633879353136\n"
     ]
    }
   ],
   "source": [
    "loregethnicity=LogisticRegression(solver='lbfgs', multi_class='auto',dual = False,max_iter=1000)\n",
    "loregethnicity.fit(x_train,y_train[\"Perpetrator Ethnicity\"])\n",
    "y_ethnicity_pred=loregethnicity.predict(x_test)\n",
    "print(metrics.accuracy_score(y_test[\"Perpetrator Ethnicity\"],y_ethnicity_pred))"
   ]
  },
  {
   "cell_type": "markdown",
   "metadata": {},
   "source": [
    "the accuracy using logistic regression is higher than the accuracy using randomforest but it's just because logistic regression didn't use the whole data but only limited the maximum number of iterations to 1000 "
   ]
  },
  {
   "cell_type": "markdown",
   "metadata": {},
   "source": [
    "#### Predicting perpetrator's Age"
   ]
  },
  {
   "cell_type": "markdown",
   "metadata": {},
   "source": [
    "look next part "
   ]
  }
 ],
 "metadata": {
  "kernelspec": {
   "display_name": "Python 3",
   "language": "python",
   "name": "python3"
  },
  "language_info": {
   "codemirror_mode": {
    "name": "ipython",
    "version": 3
   },
   "file_extension": ".py",
   "mimetype": "text/x-python",
   "name": "python",
   "nbconvert_exporter": "python",
   "pygments_lexer": "ipython3",
   "version": "3.7.7"
  }
 },
 "nbformat": 4,
 "nbformat_minor": 4
}
