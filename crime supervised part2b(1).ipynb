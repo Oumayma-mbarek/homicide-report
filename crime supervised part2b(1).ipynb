{
 "cells": [
  {
   "cell_type": "code",
   "execution_count": 1,
   "metadata": {},
   "outputs": [],
   "source": [
    "import pandas as pd \n",
    "import numpy as np \n",
    "import matplotlib.pyplot as plt\n",
    "import seaborn as sns "
   ]
  },
  {
   "cell_type": "code",
   "execution_count": 2,
   "metadata": {},
   "outputs": [],
   "source": [
    "data=pd.read_csv(\"database.csv.zip\",low_memory=False)"
   ]
  },
  {
   "cell_type": "code",
   "execution_count": 3,
   "metadata": {},
   "outputs": [],
   "source": [
    "data= data[data[\"Perpetrator Age\"].str.contains(' ') == False]\n",
    "data[\"Perpetrator Age\"] = data[\"Perpetrator Age\"].astype(int)"
   ]
  },
  {
   "cell_type": "markdown",
   "metadata": {},
   "source": [
    "# Preprocessing"
   ]
  },
  {
   "cell_type": "code",
   "execution_count": 4,
   "metadata": {},
   "outputs": [],
   "source": [
    "idx_to_drop=data[data[\"Crime Solved\"]==\"No\"].index\n",
    "data.drop(idx_to_drop,inplace=True)"
   ]
  },
  {
   "cell_type": "code",
   "execution_count": 5,
   "metadata": {},
   "outputs": [],
   "source": [
    "data.drop([\"Record ID\",\"Agency Code\",\"Agency Name\",\"Agency Type\",\"Record Source\"],axis=1,inplace=True)"
   ]
  },
  {
   "cell_type": "code",
   "execution_count": 6,
   "metadata": {},
   "outputs": [],
   "source": [
    "from sklearn.preprocessing import LabelEncoder\n",
    "encoder=LabelEncoder()"
   ]
  },
  {
   "cell_type": "code",
   "execution_count": 7,
   "metadata": {},
   "outputs": [],
   "source": [
    "data.loc[:,\"Perpetrator Sex\"]=data.loc[:,\"Perpetrator Sex\"].map({\"Male\":int(1),\"Female\":int(2),\"Unknown\":int(0)})"
   ]
  },
  {
   "cell_type": "code",
   "execution_count": 8,
   "metadata": {},
   "outputs": [],
   "source": [
    "data.loc[:,\"Victim Sex\"]=data.loc[:,\"Victim Sex\"].map({\"Male\":int(1),\"Female\":int(2),\"Unknown\":int(0)})"
   ]
  },
  {
   "cell_type": "code",
   "execution_count": 9,
   "metadata": {},
   "outputs": [],
   "source": [
    "data.loc[:,\"Perpetrator Race\"]=data.loc[:,\"Perpetrator Race\"].map({'Native American/Alaska Native':int(1),'White':int(2),'Black':int(3),'Asian/Pacific Islander':int(4),'Unknown':int(0)})"
   ]
  },
  {
   "cell_type": "code",
   "execution_count": 10,
   "metadata": {},
   "outputs": [],
   "source": [
    "data.loc[:,\"Victim Race\"]=data.loc[:,\"Victim Race\"].map({'Native American/Alaska Native':int(1),'White':int(2),'Black':int(3),'Asian/Pacific Islander':int(4),'Unknown':int(0)})"
   ]
  },
  {
   "cell_type": "code",
   "execution_count": 11,
   "metadata": {},
   "outputs": [],
   "source": [
    "data.loc[:,\"Perpetrator Ethnicity\"]=data.loc[:,\"Perpetrator Ethnicity\"].map({\"Unknown\":int(0),\"Not Hispanic\":int(1),\"Hispanic\":int(2)})"
   ]
  },
  {
   "cell_type": "code",
   "execution_count": 12,
   "metadata": {},
   "outputs": [],
   "source": [
    "data=data[data['Victim Age']<100]"
   ]
  },
  {
   "cell_type": "code",
   "execution_count": 13,
   "metadata": {},
   "outputs": [],
   "source": [
    "data.loc[:,\"Victim Ethnicity\"]=data.loc[:,\"Victim Ethnicity\"].map({\"Unknown\":int(0),\"Not Hispanic\":int(1),\"Hispanic\":int(2)})"
   ]
  },
  {
   "cell_type": "code",
   "execution_count": 14,
   "metadata": {},
   "outputs": [],
   "source": [
    "data.loc[:,\"Relationship\"]=(encoder.fit_transform(data.loc[:,\"Relationship\"])).astype(\"int64\")"
   ]
  },
  {
   "cell_type": "code",
   "execution_count": 15,
   "metadata": {},
   "outputs": [],
   "source": [
    "data.loc[:,\"Weapon\"]=(encoder.fit_transform(data.loc[:,\"Weapon\"])).astype(\"int64\")"
   ]
  },
  {
   "cell_type": "code",
   "execution_count": 16,
   "metadata": {},
   "outputs": [],
   "source": [
    "data.loc[:,\"City\"]=(encoder.fit_transform(data.loc[:,\"City\"])).astype(\"int64\")"
   ]
  },
  {
   "cell_type": "code",
   "execution_count": 17,
   "metadata": {},
   "outputs": [],
   "source": [
    "data.loc[:,\"State\"]=(encoder.fit_transform(data.loc[:,\"State\"])).astype(\"int64\")"
   ]
  },
  {
   "cell_type": "code",
   "execution_count": 18,
   "metadata": {},
   "outputs": [],
   "source": [
    "data.loc[:,\"Month\"]=data.loc[:,\"Month\"].map(({'January':int(1),\"February\":int(2),\"March\":int(3),'April':int(4),'May':int(5),'June':int(6),'July':int(7),'August':int(8),'September':int(9),'October':int(10),'November':int(11),'December':int(12)})).astype(\"int64\")"
   ]
  },
  {
   "cell_type": "code",
   "execution_count": 19,
   "metadata": {},
   "outputs": [],
   "source": [
    "data.loc[:,\"Crime Solved\"]=data.loc[:,\"Crime Solved\"].map({\"Yes\":int(1),\"No\":int(0)})"
   ]
  },
  {
   "cell_type": "code",
   "execution_count": 20,
   "metadata": {},
   "outputs": [],
   "source": [
    "data.loc[:,\"Crime Type\"]=data.loc[:,\"Crime Type\"].map({'Murder or Manslaughter':int(1),'Manslaughter by Negligence':int(2)})"
   ]
  },
  {
   "cell_type": "markdown",
   "metadata": {},
   "source": [
    "# Supervised ML part2 "
   ]
  },
  {
   "cell_type": "code",
   "execution_count": 21,
   "metadata": {},
   "outputs": [],
   "source": [
    "from sklearn.model_selection import train_test_split\n",
    "from sklearn.ensemble import RandomForestRegressor \n",
    "from sklearn.linear_model import LogisticRegression \n",
    "from sklearn.linear_model import LinearRegression \n",
    "from sklearn.neighbors import KNeighborsClassifier\n",
    "from sklearn import metrics"
   ]
  },
  {
   "cell_type": "markdown",
   "metadata": {},
   "source": [
    "#### Predicting perpetrator's Age"
   ]
  },
  {
   "cell_type": "code",
   "execution_count": 22,
   "metadata": {},
   "outputs": [],
   "source": [
    "newdata=data[(data[\"Perpetrator Race\"]!=0)& (data[\"Perpetrator Sex\"]!=0)]\n",
    "newdata=newdata[newdata[\"Perpetrator Ethnicity\"]!=0]"
   ]
  },
  {
   "cell_type": "code",
   "execution_count": 37,
   "metadata": {},
   "outputs": [],
   "source": [
    "bins = [-1, 12, 18, 60, np.inf]\n",
    "labels = ['child', 'teenager', 'adult', 'elder']\n",
    "age_groups = pd.cut(newdata[\"Perpetrator Age\"], bins, labels=labels)\n",
    "newdata['age_group'] = age_groups"
   ]
  },
  {
   "cell_type": "code",
   "execution_count": 38,
   "metadata": {},
   "outputs": [],
   "source": [
    "x=newdata[[\"State\",\"Year\",\"Month\",\"Victim Count\",\"Perpetrator Count\",\n",
    "           \"Victim Sex\",\"Victim Age\",\"Victim Race\",\"Victim Ethnicity\",\n",
    "          \"Weapon\",\"Relationship\",\"Crime Type\"]]\n",
    "y=newdata[[\"age_group\"]]"
   ]
  },
  {
   "cell_type": "code",
   "execution_count": 39,
   "metadata": {},
   "outputs": [],
   "source": [
    "x_train,x_test,y_train,y_test=train_test_split(x,y,test_size=0.2,random_state=10)"
   ]
  },
  {
   "cell_type": "markdown",
   "metadata": {},
   "source": [
    "1. Random Forest"
   ]
  },
  {
   "cell_type": "code",
   "execution_count": 23,
   "metadata": {},
   "outputs": [],
   "source": [
    "x=newdata[[\"State\",\"Year\",\"Month\",\"Victim Count\",\"Perpetrator Count\",\n",
    "           \"Victim Sex\",\"Victim Age\",\"Victim Race\",\"Victim Ethnicity\",\n",
    "          \"Weapon\",\"Relationship\",\"Crime Type\"]]\n",
    "y=newdata[[\"Perpetrator Age\"]]"
   ]
  },
  {
   "cell_type": "code",
   "execution_count": 24,
   "metadata": {},
   "outputs": [],
   "source": [
    "x_train,x_test,y_train,y_test=train_test_split(x,y,test_size=0.2,random_state=10)"
   ]
  },
  {
   "cell_type": "code",
   "execution_count": 25,
   "metadata": {},
   "outputs": [],
   "source": [
    "from sklearn.model_selection import RandomizedSearchCV \n",
    "from sklearn.model_selection import GridSearchCV "
   ]
  },
  {
   "cell_type": "code",
   "execution_count": 26,
   "metadata": {},
   "outputs": [],
   "source": [
    "n_estimators=[int(x)for x in np.linspace(start=200,stop=2000,num=10)]\n",
    "random_grid={'n_estimators':n_estimators}"
   ]
  },
  {
   "cell_type": "code",
   "execution_count": 27,
   "metadata": {},
   "outputs": [],
   "source": [
    "param_grid={'n_estimators':[100,200,300,500]}\n",
    "rf=RandomForestRegressor()\n",
    "grid_search=GridSearchCV(estimator=rf,param_grid=param_grid,cv=2,n_jobs=-1,verbose=2)"
   ]
  },
  {
   "cell_type": "code",
   "execution_count": null,
   "metadata": {},
   "outputs": [
    {
     "name": "stdout",
     "output_type": "stream",
     "text": [
      "Fitting 2 folds for each of 4 candidates, totalling 8 fits\n"
     ]
    },
    {
     "name": "stderr",
     "output_type": "stream",
     "text": [
      "[Parallel(n_jobs=-1)]: Using backend LokyBackend with 4 concurrent workers.\n"
     ]
    }
   ],
   "source": [
    "grid_search.fit(x_train,y_train)\n",
    "grid_search.best_params_"
   ]
  },
  {
   "cell_type": "code",
   "execution_count": null,
   "metadata": {},
   "outputs": [],
   "source": [
    "clfage=RandomForestClassifier(n_estimators=100)\n",
    "clfage.fit(x_train,y_train.values.ravel())\n",
    "y_age_pred=clfage.predict(x_test)\n",
    "print(metrics.accuracy_score(y_test,y_age_pred))"
   ]
  },
  {
   "cell_type": "markdown",
   "metadata": {},
   "source": [
    "2. logistic regression "
   ]
  },
  {
   "cell_type": "code",
   "execution_count": null,
   "metadata": {},
   "outputs": [],
   "source": [
    "one_hot=pd.get_dummies(y)\n",
    "one_hot"
   ]
  },
  {
   "cell_type": "code",
   "execution_count": null,
   "metadata": {},
   "outputs": [],
   "source": [
    "y=y.join(one_hot)"
   ]
  },
  {
   "cell_type": "code",
   "execution_count": null,
   "metadata": {},
   "outputs": [],
   "source": [
    "y.head()"
   ]
  },
  {
   "cell_type": "markdown",
   "metadata": {},
   "source": [
    "2. a. predicting child group"
   ]
  },
  {
   "cell_type": "code",
   "execution_count": null,
   "metadata": {},
   "outputs": [],
   "source": [
    "x=newdata[[\"State\",\"Year\",\"Month\",\"Victim Count\",\"Perpetrator Count\",\n",
    "           \"Victim Sex\",\"Victim Age\",\"Victim Race\",\"Victim Ethnicity\",\n",
    "          \"Weapon\",\"Relationship\",\"Crime Type\"]]\n",
    "y_child=y[[\"age_group_child\"]]\n",
    "\n",
    "\n",
    "x_train,x_test,y_train,y_test=train_test_split(x,y_child,test_size=0.2)\n",
    "\n",
    "loregchild=LogisticRegression(solver='lbfgs',multi_class='auto',dual=False ,max_iter=1000)\n",
    "loregchild.fit(x_train,y_train.values.ravel())\n",
    "y_child_pred=loregchild.predict(x_test)\n",
    "print(metrics.accuracy_score(y_test,y_child_pred))"
   ]
  },
  {
   "cell_type": "markdown",
   "metadata": {},
   "source": [
    "2. b. predicting teenager group"
   ]
  },
  {
   "cell_type": "code",
   "execution_count": null,
   "metadata": {},
   "outputs": [],
   "source": [
    "x=newdata[[\"State\",\"Year\",\"Month\",\"Victim Count\",\"Perpetrator Count\",\n",
    "           \"Victim Sex\",\"Victim Age\",\"Victim Race\",\"Victim Ethnicity\",\n",
    "          \"Weapon\",\"Relationship\",\"Crime Type\"]]\n",
    "y_teen=y[[\"age_group_teenager\"]]\n",
    "\n",
    "\n",
    "x_train,x_test,y_train,y_test=train_test_split(x,y_teen,test_size=0.2)\n",
    "\n",
    "loregteen=LogisticRegression(solver='lbfgs',multi_class='auto',dual=False ,max_iter=1000)\n",
    "loregteen.fit(x_train,y_train.values.ravel())\n",
    "y_teen_pred=loregteen.predict(x_test)\n",
    "print(metrics.accuracy_score(y_test,y_teen_pred))"
   ]
  },
  {
   "cell_type": "markdown",
   "metadata": {},
   "source": [
    "2. c. predicting adult group"
   ]
  },
  {
   "cell_type": "code",
   "execution_count": 33,
   "metadata": {},
   "outputs": [
    {
     "name": "stdout",
     "output_type": "stream",
     "text": [
      "0.8086606769745089\n"
     ]
    }
   ],
   "source": [
    "x=newdata[[\"State\",\"Year\",\"Month\",\"Victim Count\",\"Perpetrator Count\",\n",
    "           \"Victim Sex\",\"Victim Age\",\"Victim Race\",\"Victim Ethnicity\",\n",
    "          \"Weapon\",\"Relationship\",\"Crime Type\"]]\n",
    "y_adult=y[[\"age_group_adult\"]]\n",
    "\n",
    "\n",
    "x_train,x_test,y_train,y_test=train_test_split(x,y_adult,test_size=0.2)\n",
    "\n",
    "loregadult=LogisticRegression(solver='lbfgs',multi_class='auto',dual=False ,max_iter=1000)\n",
    "loregadult.fit(x_train,y_train.values.ravel())\n",
    "y_adult_pred=loregadult.predict(x_test)\n",
    "print(metrics.accuracy_score(y_test,y_adult_pred))"
   ]
  },
  {
   "cell_type": "markdown",
   "metadata": {},
   "source": [
    "2. d. predicting elder group"
   ]
  },
  {
   "cell_type": "code",
   "execution_count": 35,
   "metadata": {},
   "outputs": [
    {
     "name": "stdout",
     "output_type": "stream",
     "text": [
      "0.9676138737985792\n"
     ]
    }
   ],
   "source": [
    "x=newdata[[\"State\",\"Year\",\"Month\",\"Victim Count\",\"Perpetrator Count\",\n",
    "           \"Victim Sex\",\"Victim Age\",\"Victim Race\",\"Victim Ethnicity\",\n",
    "          \"Weapon\",\"Relationship\",\"Crime Type\"]]\n",
    "y_elder=y[[\"age_group_elder\"]]\n",
    "\n",
    "\n",
    "x_train,x_test,y_train,y_test=train_test_split(x,y_elder,test_size=0.2)\n",
    "\n",
    "loregelder=LogisticRegression(solver='lbfgs',multi_class='auto',dual=False ,max_iter=1000)\n",
    "loregelder.fit(x_train,y_train.values.ravel())\n",
    "y_elder_pred=loregelder.predict(x_test)\n",
    "print(metrics.accuracy_score(y_test,y_elder_pred))"
   ]
  },
  {
   "cell_type": "markdown",
   "metadata": {},
   "source": [
    "### predicting crime decade "
   ]
  },
  {
   "cell_type": "code",
   "execution_count": 23,
   "metadata": {},
   "outputs": [],
   "source": [
    "bins = [1979, 1990, 2000, 2010, 2020]\n",
    "labels = ['80s', '90s', '2000s', '2010s']\n",
    "year_groups = pd.cut(newdata[\"Year\"], bins, labels=labels)\n",
    "newdata['year_group'] = year_groups"
   ]
  },
  {
   "cell_type": "code",
   "execution_count": 24,
   "metadata": {},
   "outputs": [],
   "source": [
    "x=newdata[[\"State\",\"Year\",\"Month\",\"Victim Count\",\"Perpetrator Count\",\n",
    "           \"Victim Sex\",\"Victim Age\",\"Victim Race\",\"Victim Ethnicity\",\n",
    "          \"Weapon\",\"Relationship\",\"Crime Type\"]]\n",
    "y=newdata[[\"year_group\"]]"
   ]
  },
  {
   "cell_type": "code",
   "execution_count": 25,
   "metadata": {},
   "outputs": [],
   "source": [
    "x_train,x_test,y_train,y_test=train_test_split(x,y,test_size=0.2,random_state=10)"
   ]
  },
  {
   "cell_type": "code",
   "execution_count": 26,
   "metadata": {},
   "outputs": [
    {
     "data": {
      "text/html": [
       "<div>\n",
       "<style scoped>\n",
       "    .dataframe tbody tr th:only-of-type {\n",
       "        vertical-align: middle;\n",
       "    }\n",
       "\n",
       "    .dataframe tbody tr th {\n",
       "        vertical-align: top;\n",
       "    }\n",
       "\n",
       "    .dataframe thead th {\n",
       "        text-align: right;\n",
       "    }\n",
       "</style>\n",
       "<table border=\"1\" class=\"dataframe\">\n",
       "  <thead>\n",
       "    <tr style=\"text-align: right;\">\n",
       "      <th></th>\n",
       "      <th>year_group_80s</th>\n",
       "      <th>year_group_90s</th>\n",
       "      <th>year_group_2000s</th>\n",
       "      <th>year_group_2010s</th>\n",
       "    </tr>\n",
       "  </thead>\n",
       "  <tbody>\n",
       "    <tr>\n",
       "      <th>44</th>\n",
       "      <td>1</td>\n",
       "      <td>0</td>\n",
       "      <td>0</td>\n",
       "      <td>0</td>\n",
       "    </tr>\n",
       "    <tr>\n",
       "      <th>52</th>\n",
       "      <td>1</td>\n",
       "      <td>0</td>\n",
       "      <td>0</td>\n",
       "      <td>0</td>\n",
       "    </tr>\n",
       "    <tr>\n",
       "      <th>53</th>\n",
       "      <td>1</td>\n",
       "      <td>0</td>\n",
       "      <td>0</td>\n",
       "      <td>0</td>\n",
       "    </tr>\n",
       "    <tr>\n",
       "      <th>54</th>\n",
       "      <td>1</td>\n",
       "      <td>0</td>\n",
       "      <td>0</td>\n",
       "      <td>0</td>\n",
       "    </tr>\n",
       "    <tr>\n",
       "      <th>58</th>\n",
       "      <td>1</td>\n",
       "      <td>0</td>\n",
       "      <td>0</td>\n",
       "      <td>0</td>\n",
       "    </tr>\n",
       "    <tr>\n",
       "      <th>...</th>\n",
       "      <td>...</td>\n",
       "      <td>...</td>\n",
       "      <td>...</td>\n",
       "      <td>...</td>\n",
       "    </tr>\n",
       "    <tr>\n",
       "      <th>638441</th>\n",
       "      <td>0</td>\n",
       "      <td>0</td>\n",
       "      <td>0</td>\n",
       "      <td>1</td>\n",
       "    </tr>\n",
       "    <tr>\n",
       "      <th>638442</th>\n",
       "      <td>0</td>\n",
       "      <td>0</td>\n",
       "      <td>0</td>\n",
       "      <td>1</td>\n",
       "    </tr>\n",
       "    <tr>\n",
       "      <th>638446</th>\n",
       "      <td>0</td>\n",
       "      <td>0</td>\n",
       "      <td>0</td>\n",
       "      <td>1</td>\n",
       "    </tr>\n",
       "    <tr>\n",
       "      <th>638452</th>\n",
       "      <td>0</td>\n",
       "      <td>0</td>\n",
       "      <td>0</td>\n",
       "      <td>1</td>\n",
       "    </tr>\n",
       "    <tr>\n",
       "      <th>638453</th>\n",
       "      <td>0</td>\n",
       "      <td>0</td>\n",
       "      <td>0</td>\n",
       "      <td>1</td>\n",
       "    </tr>\n",
       "  </tbody>\n",
       "</table>\n",
       "<p>191383 rows × 4 columns</p>\n",
       "</div>"
      ],
      "text/plain": [
       "        year_group_80s  year_group_90s  year_group_2000s  year_group_2010s\n",
       "44                   1               0                 0                 0\n",
       "52                   1               0                 0                 0\n",
       "53                   1               0                 0                 0\n",
       "54                   1               0                 0                 0\n",
       "58                   1               0                 0                 0\n",
       "...                ...             ...               ...               ...\n",
       "638441               0               0                 0                 1\n",
       "638442               0               0                 0                 1\n",
       "638446               0               0                 0                 1\n",
       "638452               0               0                 0                 1\n",
       "638453               0               0                 0                 1\n",
       "\n",
       "[191383 rows x 4 columns]"
      ]
     },
     "execution_count": 26,
     "metadata": {},
     "output_type": "execute_result"
    }
   ],
   "source": [
    "one_hot=pd.get_dummies(y)\n",
    "one_hot"
   ]
  },
  {
   "cell_type": "code",
   "execution_count": 27,
   "metadata": {},
   "outputs": [],
   "source": [
    "y=y.join(one_hot)"
   ]
  },
  {
   "cell_type": "code",
   "execution_count": 28,
   "metadata": {},
   "outputs": [
    {
     "data": {
      "text/plain": [
       "year_group          0\n",
       "year_group_80s      0\n",
       "year_group_90s      0\n",
       "year_group_2000s    0\n",
       "year_group_2010s    0\n",
       "dtype: int64"
      ]
     },
     "execution_count": 28,
     "metadata": {},
     "output_type": "execute_result"
    }
   ],
   "source": [
    "y.isna().sum()"
   ]
  },
  {
   "cell_type": "code",
   "execution_count": 30,
   "metadata": {},
   "outputs": [
    {
     "name": "stdout",
     "output_type": "stream",
     "text": [
      "0.5834574287431095\n"
     ]
    }
   ],
   "source": [
    "x=newdata[[\"State\",\"Month\", \"Victim Sex\",\"Victim Age\",\"Victim Race\",\"Victim Ethnicity\",\n",
    "          \"Weapon\",\"Relationship\",\"Crime Type\",'Perpetrator Age','Perpetrator Race','Perpetrator Ethnicity']]\n",
    "y_80=y[[\"year_group_80s\"]]\n",
    "\n",
    "\n",
    "x_train,x_test,y_train,y_test=train_test_split(x,y_80,test_size=0.2)\n",
    "\n",
    "loreg80=LogisticRegression(solver='lbfgs',multi_class='auto',dual=False ,max_iter=1000)\n",
    "loreg80.fit(x_train,y_train.values.ravel())\n",
    "y_80_pred=loreg80.predict(x_test)\n",
    "print(metrics.accuracy_score(y_test,y_80_pred))"
   ]
  },
  {
   "cell_type": "code",
   "execution_count": 31,
   "metadata": {},
   "outputs": [
    {
     "name": "stdout",
     "output_type": "stream",
     "text": [
      "0.7700969250463725\n"
     ]
    }
   ],
   "source": [
    "x=newdata[[\"State\",\"Month\", \"Victim Sex\",\"Victim Age\",\"Victim Race\",\"Victim Ethnicity\",\n",
    "          \"Weapon\",\"Relationship\",\"Crime Type\",'Perpetrator Age','Perpetrator Race','Perpetrator Ethnicity']]\n",
    "y_90=y[[\"year_group_90s\"]]\n",
    "\n",
    "\n",
    "x_train,x_test,y_train,y_test=train_test_split(x,y_90,test_size=0.2)\n",
    "\n",
    "loreg90=LogisticRegression(solver='lbfgs',multi_class='auto',dual=False ,max_iter=1000)\n",
    "loreg90.fit(x_train,y_train.values.ravel())\n",
    "y_90_pred=loreg90.predict(x_test)\n",
    "print(metrics.accuracy_score(y_test,y_90_pred))"
   ]
  },
  {
   "cell_type": "code",
   "execution_count": 32,
   "metadata": {},
   "outputs": [
    {
     "name": "stdout",
     "output_type": "stream",
     "text": [
      "0.8042166313974449\n"
     ]
    }
   ],
   "source": [
    "x=newdata[[\"State\",\"Month\", \"Victim Sex\",\"Victim Age\",\"Victim Race\",\"Victim Ethnicity\",\n",
    "          \"Weapon\",\"Relationship\",\"Crime Type\",'Perpetrator Age','Perpetrator Race','Perpetrator Ethnicity']]\n",
    "y_2000=y[[\"year_group_2000s\"]]\n",
    "\n",
    "\n",
    "x_train,x_test,y_train,y_test=train_test_split(x,y_2000,test_size=0.2)\n",
    "\n",
    "loreg2000=LogisticRegression(solver='lbfgs',multi_class='auto',dual=False ,max_iter=1000)\n",
    "loreg2000.fit(x_train,y_train.values.ravel())\n",
    "y_2000_pred=loreg2000.predict(x_test)\n",
    "print(metrics.accuracy_score(y_test,y_2000_pred))"
   ]
  },
  {
   "cell_type": "code",
   "execution_count": 33,
   "metadata": {},
   "outputs": [
    {
     "name": "stdout",
     "output_type": "stream",
     "text": [
      "0.9172610183661206\n"
     ]
    }
   ],
   "source": [
    "x=newdata[[\"State\",\"Month\", \"Victim Sex\",\"Victim Age\",\"Victim Race\",\"Victim Ethnicity\",\n",
    "          \"Weapon\",\"Relationship\",\"Crime Type\",'Perpetrator Age','Perpetrator Race','Perpetrator Ethnicity']]\n",
    "y_2010=y[[\"year_group_2010s\"]]\n",
    "\n",
    "\n",
    "x_train,x_test,y_train,y_test=train_test_split(x,y_2010,test_size=0.2)\n",
    "\n",
    "loreg2010=LogisticRegression(solver='lbfgs',multi_class='auto',dual=False ,max_iter=1000)\n",
    "loreg2010.fit(x_train,y_train.values.ravel())\n",
    "y_2010_pred=loreg2010.predict(x_test)\n",
    "print(metrics.accuracy_score(y_test,y_2010_pred))"
   ]
  },
  {
   "cell_type": "markdown",
   "metadata": {},
   "source": [
    "### Predicting crime State"
   ]
  },
  {
   "cell_type": "code",
   "execution_count": 26,
   "metadata": {},
   "outputs": [
    {
     "data": {
      "text/html": [
       "<div>\n",
       "<style scoped>\n",
       "    .dataframe tbody tr th:only-of-type {\n",
       "        vertical-align: middle;\n",
       "    }\n",
       "\n",
       "    .dataframe tbody tr th {\n",
       "        vertical-align: top;\n",
       "    }\n",
       "\n",
       "    .dataframe thead th {\n",
       "        text-align: right;\n",
       "    }\n",
       "</style>\n",
       "<table border=\"1\" class=\"dataframe\">\n",
       "  <thead>\n",
       "    <tr style=\"text-align: right;\">\n",
       "      <th></th>\n",
       "      <th>City</th>\n",
       "      <th>State</th>\n",
       "      <th>Year</th>\n",
       "      <th>Month</th>\n",
       "      <th>Incident</th>\n",
       "      <th>Crime Type</th>\n",
       "      <th>Crime Solved</th>\n",
       "      <th>Victim Sex</th>\n",
       "      <th>Victim Age</th>\n",
       "      <th>Victim Race</th>\n",
       "      <th>Victim Ethnicity</th>\n",
       "      <th>Perpetrator Sex</th>\n",
       "      <th>Perpetrator Age</th>\n",
       "      <th>Perpetrator Race</th>\n",
       "      <th>Perpetrator Ethnicity</th>\n",
       "      <th>Relationship</th>\n",
       "      <th>Weapon</th>\n",
       "      <th>Victim Count</th>\n",
       "      <th>Perpetrator Count</th>\n",
       "    </tr>\n",
       "  </thead>\n",
       "  <tbody>\n",
       "    <tr>\n",
       "      <th>City</th>\n",
       "      <td>1.000000</td>\n",
       "      <td>-0.144277</td>\n",
       "      <td>0.063315</td>\n",
       "      <td>0.001894</td>\n",
       "      <td>-0.008580</td>\n",
       "      <td>-0.009509</td>\n",
       "      <td>NaN</td>\n",
       "      <td>0.009760</td>\n",
       "      <td>-0.001525</td>\n",
       "      <td>-0.057530</td>\n",
       "      <td>0.022670</td>\n",
       "      <td>-0.014666</td>\n",
       "      <td>0.006751</td>\n",
       "      <td>-0.059820</td>\n",
       "      <td>0.031367</td>\n",
       "      <td>0.018416</td>\n",
       "      <td>-0.007315</td>\n",
       "      <td>0.011250</td>\n",
       "      <td>0.017419</td>\n",
       "    </tr>\n",
       "    <tr>\n",
       "      <th>State</th>\n",
       "      <td>-0.144277</td>\n",
       "      <td>1.000000</td>\n",
       "      <td>-0.025301</td>\n",
       "      <td>0.004740</td>\n",
       "      <td>-0.021022</td>\n",
       "      <td>0.021035</td>\n",
       "      <td>NaN</td>\n",
       "      <td>0.014991</td>\n",
       "      <td>0.030995</td>\n",
       "      <td>0.043160</td>\n",
       "      <td>-0.100272</td>\n",
       "      <td>0.030609</td>\n",
       "      <td>0.000738</td>\n",
       "      <td>0.037686</td>\n",
       "      <td>-0.104696</td>\n",
       "      <td>-0.135498</td>\n",
       "      <td>0.022618</td>\n",
       "      <td>-0.007517</td>\n",
       "      <td>-0.035169</td>\n",
       "    </tr>\n",
       "    <tr>\n",
       "      <th>Year</th>\n",
       "      <td>0.063315</td>\n",
       "      <td>-0.025301</td>\n",
       "      <td>1.000000</td>\n",
       "      <td>-0.010744</td>\n",
       "      <td>-0.050778</td>\n",
       "      <td>0.008779</td>\n",
       "      <td>NaN</td>\n",
       "      <td>0.012265</td>\n",
       "      <td>-0.014195</td>\n",
       "      <td>-0.032646</td>\n",
       "      <td>0.118068</td>\n",
       "      <td>-0.068587</td>\n",
       "      <td>-0.034783</td>\n",
       "      <td>-0.028612</td>\n",
       "      <td>0.118416</td>\n",
       "      <td>0.150519</td>\n",
       "      <td>-0.033230</td>\n",
       "      <td>0.020945</td>\n",
       "      <td>0.050822</td>\n",
       "    </tr>\n",
       "    <tr>\n",
       "      <th>Month</th>\n",
       "      <td>0.001894</td>\n",
       "      <td>0.004740</td>\n",
       "      <td>-0.010744</td>\n",
       "      <td>1.000000</td>\n",
       "      <td>0.022239</td>\n",
       "      <td>0.001934</td>\n",
       "      <td>NaN</td>\n",
       "      <td>-0.001681</td>\n",
       "      <td>0.001855</td>\n",
       "      <td>-0.002764</td>\n",
       "      <td>0.003553</td>\n",
       "      <td>-0.002948</td>\n",
       "      <td>-0.000227</td>\n",
       "      <td>-0.002427</td>\n",
       "      <td>0.004861</td>\n",
       "      <td>-0.002264</td>\n",
       "      <td>0.001438</td>\n",
       "      <td>-0.002722</td>\n",
       "      <td>-0.006916</td>\n",
       "    </tr>\n",
       "    <tr>\n",
       "      <th>Incident</th>\n",
       "      <td>-0.008580</td>\n",
       "      <td>-0.021022</td>\n",
       "      <td>-0.050778</td>\n",
       "      <td>0.022239</td>\n",
       "      <td>1.000000</td>\n",
       "      <td>-0.001838</td>\n",
       "      <td>NaN</td>\n",
       "      <td>-0.056865</td>\n",
       "      <td>-0.032141</td>\n",
       "      <td>0.085815</td>\n",
       "      <td>0.064590</td>\n",
       "      <td>-0.024667</td>\n",
       "      <td>-0.067014</td>\n",
       "      <td>0.079577</td>\n",
       "      <td>0.075069</td>\n",
       "      <td>0.096231</td>\n",
       "      <td>-0.004674</td>\n",
       "      <td>-0.016120</td>\n",
       "      <td>0.060459</td>\n",
       "    </tr>\n",
       "    <tr>\n",
       "      <th>Crime Type</th>\n",
       "      <td>-0.009509</td>\n",
       "      <td>0.021035</td>\n",
       "      <td>0.008779</td>\n",
       "      <td>0.001934</td>\n",
       "      <td>-0.001838</td>\n",
       "      <td>1.000000</td>\n",
       "      <td>NaN</td>\n",
       "      <td>0.013028</td>\n",
       "      <td>-0.080959</td>\n",
       "      <td>-0.038187</td>\n",
       "      <td>-0.014055</td>\n",
       "      <td>0.031247</td>\n",
       "      <td>-0.032626</td>\n",
       "      <td>-0.045042</td>\n",
       "      <td>-0.014018</td>\n",
       "      <td>-0.031034</td>\n",
       "      <td>0.042902</td>\n",
       "      <td>-0.009972</td>\n",
       "      <td>-0.034169</td>\n",
       "    </tr>\n",
       "    <tr>\n",
       "      <th>Crime Solved</th>\n",
       "      <td>NaN</td>\n",
       "      <td>NaN</td>\n",
       "      <td>NaN</td>\n",
       "      <td>NaN</td>\n",
       "      <td>NaN</td>\n",
       "      <td>NaN</td>\n",
       "      <td>NaN</td>\n",
       "      <td>NaN</td>\n",
       "      <td>NaN</td>\n",
       "      <td>NaN</td>\n",
       "      <td>NaN</td>\n",
       "      <td>NaN</td>\n",
       "      <td>NaN</td>\n",
       "      <td>NaN</td>\n",
       "      <td>NaN</td>\n",
       "      <td>NaN</td>\n",
       "      <td>NaN</td>\n",
       "      <td>NaN</td>\n",
       "      <td>NaN</td>\n",
       "    </tr>\n",
       "    <tr>\n",
       "      <th>Victim Sex</th>\n",
       "      <td>0.009760</td>\n",
       "      <td>0.014991</td>\n",
       "      <td>0.012265</td>\n",
       "      <td>-0.001681</td>\n",
       "      <td>-0.056865</td>\n",
       "      <td>0.013028</td>\n",
       "      <td>NaN</td>\n",
       "      <td>1.000000</td>\n",
       "      <td>0.057290</td>\n",
       "      <td>-0.055170</td>\n",
       "      <td>-0.089801</td>\n",
       "      <td>-0.021880</td>\n",
       "      <td>0.178675</td>\n",
       "      <td>-0.040045</td>\n",
       "      <td>-0.076252</td>\n",
       "      <td>0.068783</td>\n",
       "      <td>-0.040962</td>\n",
       "      <td>0.088573</td>\n",
       "      <td>-0.104602</td>\n",
       "    </tr>\n",
       "    <tr>\n",
       "      <th>Victim Age</th>\n",
       "      <td>-0.001525</td>\n",
       "      <td>0.030995</td>\n",
       "      <td>-0.014195</td>\n",
       "      <td>0.001855</td>\n",
       "      <td>-0.032141</td>\n",
       "      <td>-0.080959</td>\n",
       "      <td>NaN</td>\n",
       "      <td>0.057290</td>\n",
       "      <td>1.000000</td>\n",
       "      <td>-0.066952</td>\n",
       "      <td>-0.117579</td>\n",
       "      <td>0.008046</td>\n",
       "      <td>0.310203</td>\n",
       "      <td>-0.035964</td>\n",
       "      <td>-0.099794</td>\n",
       "      <td>0.006297</td>\n",
       "      <td>0.003308</td>\n",
       "      <td>-0.022920</td>\n",
       "      <td>-0.037983</td>\n",
       "    </tr>\n",
       "    <tr>\n",
       "      <th>Victim Race</th>\n",
       "      <td>-0.057530</td>\n",
       "      <td>0.043160</td>\n",
       "      <td>-0.032646</td>\n",
       "      <td>-0.002764</td>\n",
       "      <td>0.085815</td>\n",
       "      <td>-0.038187</td>\n",
       "      <td>NaN</td>\n",
       "      <td>-0.055170</td>\n",
       "      <td>-0.066952</td>\n",
       "      <td>1.000000</td>\n",
       "      <td>-0.331588</td>\n",
       "      <td>0.059251</td>\n",
       "      <td>-0.044414</td>\n",
       "      <td>0.696266</td>\n",
       "      <td>-0.307654</td>\n",
       "      <td>-0.065651</td>\n",
       "      <td>0.010627</td>\n",
       "      <td>-0.035036</td>\n",
       "      <td>-0.028833</td>\n",
       "    </tr>\n",
       "    <tr>\n",
       "      <th>Victim Ethnicity</th>\n",
       "      <td>0.022670</td>\n",
       "      <td>-0.100272</td>\n",
       "      <td>0.118068</td>\n",
       "      <td>0.003553</td>\n",
       "      <td>0.064590</td>\n",
       "      <td>-0.014055</td>\n",
       "      <td>NaN</td>\n",
       "      <td>-0.089801</td>\n",
       "      <td>-0.117579</td>\n",
       "      <td>-0.331588</td>\n",
       "      <td>1.000000</td>\n",
       "      <td>-0.087129</td>\n",
       "      <td>-0.118982</td>\n",
       "      <td>-0.302220</td>\n",
       "      <td>0.689757</td>\n",
       "      <td>0.087287</td>\n",
       "      <td>0.007796</td>\n",
       "      <td>0.004726</td>\n",
       "      <td>0.084532</td>\n",
       "    </tr>\n",
       "    <tr>\n",
       "      <th>Perpetrator Sex</th>\n",
       "      <td>-0.014666</td>\n",
       "      <td>0.030609</td>\n",
       "      <td>-0.068587</td>\n",
       "      <td>-0.002948</td>\n",
       "      <td>-0.024667</td>\n",
       "      <td>0.031247</td>\n",
       "      <td>NaN</td>\n",
       "      <td>-0.021880</td>\n",
       "      <td>0.008046</td>\n",
       "      <td>0.059251</td>\n",
       "      <td>-0.087129</td>\n",
       "      <td>1.000000</td>\n",
       "      <td>0.068558</td>\n",
       "      <td>0.044993</td>\n",
       "      <td>-0.101969</td>\n",
       "      <td>-0.130656</td>\n",
       "      <td>0.009688</td>\n",
       "      <td>-0.027887</td>\n",
       "      <td>-0.052274</td>\n",
       "    </tr>\n",
       "    <tr>\n",
       "      <th>Perpetrator Age</th>\n",
       "      <td>0.006751</td>\n",
       "      <td>0.000738</td>\n",
       "      <td>-0.034783</td>\n",
       "      <td>-0.000227</td>\n",
       "      <td>-0.067014</td>\n",
       "      <td>-0.032626</td>\n",
       "      <td>NaN</td>\n",
       "      <td>0.178675</td>\n",
       "      <td>0.310203</td>\n",
       "      <td>-0.044414</td>\n",
       "      <td>-0.118982</td>\n",
       "      <td>0.068558</td>\n",
       "      <td>1.000000</td>\n",
       "      <td>-0.079227</td>\n",
       "      <td>-0.134893</td>\n",
       "      <td>-0.059350</td>\n",
       "      <td>0.030531</td>\n",
       "      <td>0.019186</td>\n",
       "      <td>-0.190928</td>\n",
       "    </tr>\n",
       "    <tr>\n",
       "      <th>Perpetrator Race</th>\n",
       "      <td>-0.059820</td>\n",
       "      <td>0.037686</td>\n",
       "      <td>-0.028612</td>\n",
       "      <td>-0.002427</td>\n",
       "      <td>0.079577</td>\n",
       "      <td>-0.045042</td>\n",
       "      <td>NaN</td>\n",
       "      <td>-0.040045</td>\n",
       "      <td>-0.035964</td>\n",
       "      <td>0.696266</td>\n",
       "      <td>-0.302220</td>\n",
       "      <td>0.044993</td>\n",
       "      <td>-0.079227</td>\n",
       "      <td>1.000000</td>\n",
       "      <td>-0.424385</td>\n",
       "      <td>-0.049338</td>\n",
       "      <td>-0.008361</td>\n",
       "      <td>-0.030962</td>\n",
       "      <td>-0.002826</td>\n",
       "    </tr>\n",
       "    <tr>\n",
       "      <th>Perpetrator Ethnicity</th>\n",
       "      <td>0.031367</td>\n",
       "      <td>-0.104696</td>\n",
       "      <td>0.118416</td>\n",
       "      <td>0.004861</td>\n",
       "      <td>0.075069</td>\n",
       "      <td>-0.014018</td>\n",
       "      <td>NaN</td>\n",
       "      <td>-0.076252</td>\n",
       "      <td>-0.099794</td>\n",
       "      <td>-0.307654</td>\n",
       "      <td>0.689757</td>\n",
       "      <td>-0.101969</td>\n",
       "      <td>-0.134893</td>\n",
       "      <td>-0.424385</td>\n",
       "      <td>1.000000</td>\n",
       "      <td>0.088518</td>\n",
       "      <td>0.004493</td>\n",
       "      <td>-0.005181</td>\n",
       "      <td>0.095822</td>\n",
       "    </tr>\n",
       "    <tr>\n",
       "      <th>Relationship</th>\n",
       "      <td>0.018416</td>\n",
       "      <td>-0.135498</td>\n",
       "      <td>0.150519</td>\n",
       "      <td>-0.002264</td>\n",
       "      <td>0.096231</td>\n",
       "      <td>-0.031034</td>\n",
       "      <td>NaN</td>\n",
       "      <td>0.068783</td>\n",
       "      <td>0.006297</td>\n",
       "      <td>-0.065651</td>\n",
       "      <td>0.087287</td>\n",
       "      <td>-0.130656</td>\n",
       "      <td>-0.059350</td>\n",
       "      <td>-0.049338</td>\n",
       "      <td>0.088518</td>\n",
       "      <td>1.000000</td>\n",
       "      <td>-0.006366</td>\n",
       "      <td>0.020093</td>\n",
       "      <td>0.105662</td>\n",
       "    </tr>\n",
       "    <tr>\n",
       "      <th>Weapon</th>\n",
       "      <td>-0.007315</td>\n",
       "      <td>0.022618</td>\n",
       "      <td>-0.033230</td>\n",
       "      <td>0.001438</td>\n",
       "      <td>-0.004674</td>\n",
       "      <td>0.042902</td>\n",
       "      <td>NaN</td>\n",
       "      <td>-0.040962</td>\n",
       "      <td>0.003308</td>\n",
       "      <td>0.010627</td>\n",
       "      <td>0.007796</td>\n",
       "      <td>0.009688</td>\n",
       "      <td>0.030531</td>\n",
       "      <td>-0.008361</td>\n",
       "      <td>0.004493</td>\n",
       "      <td>-0.006366</td>\n",
       "      <td>1.000000</td>\n",
       "      <td>0.027900</td>\n",
       "      <td>-0.021705</td>\n",
       "    </tr>\n",
       "    <tr>\n",
       "      <th>Victim Count</th>\n",
       "      <td>0.011250</td>\n",
       "      <td>-0.007517</td>\n",
       "      <td>0.020945</td>\n",
       "      <td>-0.002722</td>\n",
       "      <td>-0.016120</td>\n",
       "      <td>-0.009972</td>\n",
       "      <td>NaN</td>\n",
       "      <td>0.088573</td>\n",
       "      <td>-0.022920</td>\n",
       "      <td>-0.035036</td>\n",
       "      <td>0.004726</td>\n",
       "      <td>-0.027887</td>\n",
       "      <td>0.019186</td>\n",
       "      <td>-0.030962</td>\n",
       "      <td>-0.005181</td>\n",
       "      <td>0.020093</td>\n",
       "      <td>0.027900</td>\n",
       "      <td>1.000000</td>\n",
       "      <td>0.029446</td>\n",
       "    </tr>\n",
       "    <tr>\n",
       "      <th>Perpetrator Count</th>\n",
       "      <td>0.017419</td>\n",
       "      <td>-0.035169</td>\n",
       "      <td>0.050822</td>\n",
       "      <td>-0.006916</td>\n",
       "      <td>0.060459</td>\n",
       "      <td>-0.034169</td>\n",
       "      <td>NaN</td>\n",
       "      <td>-0.104602</td>\n",
       "      <td>-0.037983</td>\n",
       "      <td>-0.028833</td>\n",
       "      <td>0.084532</td>\n",
       "      <td>-0.052274</td>\n",
       "      <td>-0.190928</td>\n",
       "      <td>-0.002826</td>\n",
       "      <td>0.095822</td>\n",
       "      <td>0.105662</td>\n",
       "      <td>-0.021705</td>\n",
       "      <td>0.029446</td>\n",
       "      <td>1.000000</td>\n",
       "    </tr>\n",
       "  </tbody>\n",
       "</table>\n",
       "</div>"
      ],
      "text/plain": [
       "                           City     State      Year     Month  Incident  \\\n",
       "City                   1.000000 -0.144277  0.063315  0.001894 -0.008580   \n",
       "State                 -0.144277  1.000000 -0.025301  0.004740 -0.021022   \n",
       "Year                   0.063315 -0.025301  1.000000 -0.010744 -0.050778   \n",
       "Month                  0.001894  0.004740 -0.010744  1.000000  0.022239   \n",
       "Incident              -0.008580 -0.021022 -0.050778  0.022239  1.000000   \n",
       "Crime Type            -0.009509  0.021035  0.008779  0.001934 -0.001838   \n",
       "Crime Solved                NaN       NaN       NaN       NaN       NaN   \n",
       "Victim Sex             0.009760  0.014991  0.012265 -0.001681 -0.056865   \n",
       "Victim Age            -0.001525  0.030995 -0.014195  0.001855 -0.032141   \n",
       "Victim Race           -0.057530  0.043160 -0.032646 -0.002764  0.085815   \n",
       "Victim Ethnicity       0.022670 -0.100272  0.118068  0.003553  0.064590   \n",
       "Perpetrator Sex       -0.014666  0.030609 -0.068587 -0.002948 -0.024667   \n",
       "Perpetrator Age        0.006751  0.000738 -0.034783 -0.000227 -0.067014   \n",
       "Perpetrator Race      -0.059820  0.037686 -0.028612 -0.002427  0.079577   \n",
       "Perpetrator Ethnicity  0.031367 -0.104696  0.118416  0.004861  0.075069   \n",
       "Relationship           0.018416 -0.135498  0.150519 -0.002264  0.096231   \n",
       "Weapon                -0.007315  0.022618 -0.033230  0.001438 -0.004674   \n",
       "Victim Count           0.011250 -0.007517  0.020945 -0.002722 -0.016120   \n",
       "Perpetrator Count      0.017419 -0.035169  0.050822 -0.006916  0.060459   \n",
       "\n",
       "                       Crime Type  Crime Solved  Victim Sex  Victim Age  \\\n",
       "City                    -0.009509           NaN    0.009760   -0.001525   \n",
       "State                    0.021035           NaN    0.014991    0.030995   \n",
       "Year                     0.008779           NaN    0.012265   -0.014195   \n",
       "Month                    0.001934           NaN   -0.001681    0.001855   \n",
       "Incident                -0.001838           NaN   -0.056865   -0.032141   \n",
       "Crime Type               1.000000           NaN    0.013028   -0.080959   \n",
       "Crime Solved                  NaN           NaN         NaN         NaN   \n",
       "Victim Sex               0.013028           NaN    1.000000    0.057290   \n",
       "Victim Age              -0.080959           NaN    0.057290    1.000000   \n",
       "Victim Race             -0.038187           NaN   -0.055170   -0.066952   \n",
       "Victim Ethnicity        -0.014055           NaN   -0.089801   -0.117579   \n",
       "Perpetrator Sex          0.031247           NaN   -0.021880    0.008046   \n",
       "Perpetrator Age         -0.032626           NaN    0.178675    0.310203   \n",
       "Perpetrator Race        -0.045042           NaN   -0.040045   -0.035964   \n",
       "Perpetrator Ethnicity   -0.014018           NaN   -0.076252   -0.099794   \n",
       "Relationship            -0.031034           NaN    0.068783    0.006297   \n",
       "Weapon                   0.042902           NaN   -0.040962    0.003308   \n",
       "Victim Count            -0.009972           NaN    0.088573   -0.022920   \n",
       "Perpetrator Count       -0.034169           NaN   -0.104602   -0.037983   \n",
       "\n",
       "                       Victim Race  Victim Ethnicity  Perpetrator Sex  \\\n",
       "City                     -0.057530          0.022670        -0.014666   \n",
       "State                     0.043160         -0.100272         0.030609   \n",
       "Year                     -0.032646          0.118068        -0.068587   \n",
       "Month                    -0.002764          0.003553        -0.002948   \n",
       "Incident                  0.085815          0.064590        -0.024667   \n",
       "Crime Type               -0.038187         -0.014055         0.031247   \n",
       "Crime Solved                   NaN               NaN              NaN   \n",
       "Victim Sex               -0.055170         -0.089801        -0.021880   \n",
       "Victim Age               -0.066952         -0.117579         0.008046   \n",
       "Victim Race               1.000000         -0.331588         0.059251   \n",
       "Victim Ethnicity         -0.331588          1.000000        -0.087129   \n",
       "Perpetrator Sex           0.059251         -0.087129         1.000000   \n",
       "Perpetrator Age          -0.044414         -0.118982         0.068558   \n",
       "Perpetrator Race          0.696266         -0.302220         0.044993   \n",
       "Perpetrator Ethnicity    -0.307654          0.689757        -0.101969   \n",
       "Relationship             -0.065651          0.087287        -0.130656   \n",
       "Weapon                    0.010627          0.007796         0.009688   \n",
       "Victim Count             -0.035036          0.004726        -0.027887   \n",
       "Perpetrator Count        -0.028833          0.084532        -0.052274   \n",
       "\n",
       "                       Perpetrator Age  Perpetrator Race  \\\n",
       "City                          0.006751         -0.059820   \n",
       "State                         0.000738          0.037686   \n",
       "Year                         -0.034783         -0.028612   \n",
       "Month                        -0.000227         -0.002427   \n",
       "Incident                     -0.067014          0.079577   \n",
       "Crime Type                   -0.032626         -0.045042   \n",
       "Crime Solved                       NaN               NaN   \n",
       "Victim Sex                    0.178675         -0.040045   \n",
       "Victim Age                    0.310203         -0.035964   \n",
       "Victim Race                  -0.044414          0.696266   \n",
       "Victim Ethnicity             -0.118982         -0.302220   \n",
       "Perpetrator Sex               0.068558          0.044993   \n",
       "Perpetrator Age               1.000000         -0.079227   \n",
       "Perpetrator Race             -0.079227          1.000000   \n",
       "Perpetrator Ethnicity        -0.134893         -0.424385   \n",
       "Relationship                 -0.059350         -0.049338   \n",
       "Weapon                        0.030531         -0.008361   \n",
       "Victim Count                  0.019186         -0.030962   \n",
       "Perpetrator Count            -0.190928         -0.002826   \n",
       "\n",
       "                       Perpetrator Ethnicity  Relationship    Weapon  \\\n",
       "City                                0.031367      0.018416 -0.007315   \n",
       "State                              -0.104696     -0.135498  0.022618   \n",
       "Year                                0.118416      0.150519 -0.033230   \n",
       "Month                               0.004861     -0.002264  0.001438   \n",
       "Incident                            0.075069      0.096231 -0.004674   \n",
       "Crime Type                         -0.014018     -0.031034  0.042902   \n",
       "Crime Solved                             NaN           NaN       NaN   \n",
       "Victim Sex                         -0.076252      0.068783 -0.040962   \n",
       "Victim Age                         -0.099794      0.006297  0.003308   \n",
       "Victim Race                        -0.307654     -0.065651  0.010627   \n",
       "Victim Ethnicity                    0.689757      0.087287  0.007796   \n",
       "Perpetrator Sex                    -0.101969     -0.130656  0.009688   \n",
       "Perpetrator Age                    -0.134893     -0.059350  0.030531   \n",
       "Perpetrator Race                   -0.424385     -0.049338 -0.008361   \n",
       "Perpetrator Ethnicity               1.000000      0.088518  0.004493   \n",
       "Relationship                        0.088518      1.000000 -0.006366   \n",
       "Weapon                              0.004493     -0.006366  1.000000   \n",
       "Victim Count                       -0.005181      0.020093  0.027900   \n",
       "Perpetrator Count                   0.095822      0.105662 -0.021705   \n",
       "\n",
       "                       Victim Count  Perpetrator Count  \n",
       "City                       0.011250           0.017419  \n",
       "State                     -0.007517          -0.035169  \n",
       "Year                       0.020945           0.050822  \n",
       "Month                     -0.002722          -0.006916  \n",
       "Incident                  -0.016120           0.060459  \n",
       "Crime Type                -0.009972          -0.034169  \n",
       "Crime Solved                    NaN                NaN  \n",
       "Victim Sex                 0.088573          -0.104602  \n",
       "Victim Age                -0.022920          -0.037983  \n",
       "Victim Race               -0.035036          -0.028833  \n",
       "Victim Ethnicity           0.004726           0.084532  \n",
       "Perpetrator Sex           -0.027887          -0.052274  \n",
       "Perpetrator Age            0.019186          -0.190928  \n",
       "Perpetrator Race          -0.030962          -0.002826  \n",
       "Perpetrator Ethnicity     -0.005181           0.095822  \n",
       "Relationship               0.020093           0.105662  \n",
       "Weapon                     0.027900          -0.021705  \n",
       "Victim Count               1.000000           0.029446  \n",
       "Perpetrator Count          0.029446           1.000000  "
      ]
     },
     "execution_count": 26,
     "metadata": {},
     "output_type": "execute_result"
    }
   ],
   "source": [
    "newdata.corr()"
   ]
  },
  {
   "cell_type": "code",
   "execution_count": 23,
   "metadata": {},
   "outputs": [],
   "source": [
    "y=newdata[['State']]\n",
    "x=newdata[['City' ,'Year' ,'Month' ,'Incident' ,'Crime Type'  ,'Victim Sex' ,'Victim Age','Victim Race','Victim Ethnicity',\n",
    "           'Perpetrator Sex' ,'Perpetrator Age' ,'Perpetrator Race' ,'Perpetrator Ethnicity' ,\n",
    "           'Relationship' ,'Weapon' ,'Victim Count' ,'Perpetrator Count']]"
   ]
  },
  {
   "cell_type": "code",
   "execution_count": 24,
   "metadata": {},
   "outputs": [],
   "source": [
    "x_train,x_test,y_train,y_test=train_test_split(x,y,test_size=0.2,random_state=10)"
   ]
  },
  {
   "cell_type": "code",
   "execution_count": 33,
   "metadata": {},
   "outputs": [
    {
     "data": {
      "text/plain": [
       "0.7293675052903833"
      ]
     },
     "execution_count": 33,
     "metadata": {},
     "output_type": "execute_result"
    }
   ],
   "source": [
    "from sklearn.neighbors import KNeighborsClassifier\n",
    "\n",
    "knn=KNeighborsClassifier(n_neighbors=20)\n",
    "knn.fit(x_train,y_train.values.ravel())\n",
    "predicted=knn.predict(x_test)\n",
    "metrics.accuracy_score(y_test,predicted)"
   ]
  },
  {
   "cell_type": "code",
   "execution_count": null,
   "metadata": {},
   "outputs": [],
   "source": []
  }
 ],
 "metadata": {
  "kernelspec": {
   "display_name": "Python 3",
   "language": "python",
   "name": "python3"
  },
  "language_info": {
   "codemirror_mode": {
    "name": "ipython",
    "version": 3
   },
   "file_extension": ".py",
   "mimetype": "text/x-python",
   "name": "python",
   "nbconvert_exporter": "python",
   "pygments_lexer": "ipython3",
   "version": "3.7.7"
  }
 },
 "nbformat": 4,
 "nbformat_minor": 4
}
