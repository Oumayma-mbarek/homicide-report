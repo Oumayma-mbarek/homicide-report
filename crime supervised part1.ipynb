{
 "cells": [
  {
   "cell_type": "code",
   "execution_count": 1,
   "metadata": {},
   "outputs": [],
   "source": [
    "import pandas as pd \n",
    "import numpy as np \n",
    "import matplotlib.pyplot as plt\n",
    "import seaborn as sns "
   ]
  },
  {
   "cell_type": "code",
   "execution_count": 2,
   "metadata": {},
   "outputs": [],
   "source": [
    "data=pd.read_csv(\"database.csv.zip\",low_memory=False)"
   ]
  },
  {
   "cell_type": "code",
   "execution_count": 3,
   "metadata": {},
   "outputs": [],
   "source": [
    "data= data[data[\"Perpetrator Age\"].str.contains(' ') == False]\n",
    "data[\"Perpetrator Age\"] = data[\"Perpetrator Age\"].astype(int)"
   ]
  },
  {
   "cell_type": "markdown",
   "metadata": {},
   "source": [
    "# Data Preprocessing"
   ]
  },
  {
   "cell_type": "code",
   "execution_count": 4,
   "metadata": {},
   "outputs": [],
   "source": [
    "idx_to_drop=data[data[\"Crime Solved\"]==\"No\"].index\n",
    "data.drop(idx_to_drop,inplace=True)"
   ]
  },
  {
   "cell_type": "code",
   "execution_count": 5,
   "metadata": {},
   "outputs": [],
   "source": [
    "data.drop([\"Record ID\",\"Agency Code\",\"Agency Name\",\"Agency Type\",\"Record Source\"],axis=1,inplace=True)"
   ]
  },
  {
   "cell_type": "code",
   "execution_count": 6,
   "metadata": {},
   "outputs": [],
   "source": [
    "from sklearn.preprocessing import LabelEncoder\n",
    "encoder=LabelEncoder()"
   ]
  },
  {
   "cell_type": "code",
   "execution_count": 7,
   "metadata": {},
   "outputs": [],
   "source": [
    "data.loc[:,\"Perpetrator Sex\"]=data.loc[:,\"Perpetrator Sex\"].map({\"Male\":int(1),\"Female\":int(2),\"Unknown\":int(0)})"
   ]
  },
  {
   "cell_type": "code",
   "execution_count": 8,
   "metadata": {},
   "outputs": [],
   "source": [
    "data.loc[:,\"Victim Sex\"]=data.loc[:,\"Victim Sex\"].map({\"Male\":int(1),\"Female\":int(2),\"Unknown\":int(0)})"
   ]
  },
  {
   "cell_type": "code",
   "execution_count": 9,
   "metadata": {},
   "outputs": [],
   "source": [
    "data.loc[:,\"Perpetrator Race\"]=data.loc[:,\"Perpetrator Race\"].map({'Native American/Alaska Native':int(1),'White':int(2),'Black':int(3),'Asian/Pacific Islander':int(4),'Unknown':int(0)})"
   ]
  },
  {
   "cell_type": "code",
   "execution_count": 10,
   "metadata": {},
   "outputs": [],
   "source": [
    "data.loc[:,\"Victim Race\"]=data.loc[:,\"Victim Race\"].map({'Native American/Alaska Native':int(1),'White':int(2),'Black':int(3),'Asian/Pacific Islander':int(4),'Unknown':int(0)})"
   ]
  },
  {
   "cell_type": "code",
   "execution_count": 11,
   "metadata": {},
   "outputs": [],
   "source": [
    "data.loc[:,\"Perpetrator Ethnicity\"]=data.loc[:,\"Perpetrator Ethnicity\"].map({\"Unknown\":int(0),\"Not Hispanic\":int(1),\"Hispanic\":int(2)})"
   ]
  },
  {
   "cell_type": "code",
   "execution_count": 12,
   "metadata": {},
   "outputs": [],
   "source": [
    "data.loc[:,\"Victim Ethnicity\"]=data.loc[:,\"Victim Ethnicity\"].map({\"Unknown\":int(0),\"Not Hispanic\":int(1),\"Hispanic\":int(2)})"
   ]
  },
  {
   "cell_type": "code",
   "execution_count": 13,
   "metadata": {},
   "outputs": [],
   "source": [
    "data.loc[:,\"Relationship\"]=(encoder.fit_transform(data.loc[:,\"Relationship\"])).astype(\"int64\")"
   ]
  },
  {
   "cell_type": "code",
   "execution_count": 14,
   "metadata": {},
   "outputs": [],
   "source": [
    "data.loc[:,\"Weapon\"]=(encoder.fit_transform(data.loc[:,\"Weapon\"])).astype(\"int64\")"
   ]
  },
  {
   "cell_type": "code",
   "execution_count": 15,
   "metadata": {},
   "outputs": [],
   "source": [
    "data.loc[:,\"City\"]=(encoder.fit_transform(data.loc[:,\"City\"])).astype(\"int64\")"
   ]
  },
  {
   "cell_type": "code",
   "execution_count": 16,
   "metadata": {},
   "outputs": [],
   "source": [
    "data.loc[:,\"State\"]=(encoder.fit_transform(data.loc[:,\"State\"])).astype(\"int64\")"
   ]
  },
  {
   "cell_type": "code",
   "execution_count": 17,
   "metadata": {},
   "outputs": [],
   "source": [
    "data.loc[:,\"Month\"]=data.loc[:,\"Month\"].map(({'January':int(1),\"February\":int(2),\"March\":int(3),'April':int(4),'May':int(5),'June':int(6),'July':int(7),'August':int(8),'September':int(9),'October':int(10),'November':int(11),'December':int(12)})).astype(\"int64\")"
   ]
  },
  {
   "cell_type": "code",
   "execution_count": 18,
   "metadata": {},
   "outputs": [],
   "source": [
    "data.loc[:,\"Crime Solved\"]=data.loc[:,\"Crime Solved\"].map({\"Yes\":int(1),\"No\":int(0)})"
   ]
  },
  {
   "cell_type": "code",
   "execution_count": 19,
   "metadata": {},
   "outputs": [],
   "source": [
    "data.loc[:,\"Crime Type\"]=data.loc[:,\"Crime Type\"].map({'Murder or Manslaughter':int(1),'Manslaughter by Negligence':int(2)})"
   ]
  },
  {
   "cell_type": "markdown",
   "metadata": {},
   "source": [
    "# Supervised Machine learning"
   ]
  },
  {
   "cell_type": "code",
   "execution_count": 20,
   "metadata": {},
   "outputs": [],
   "source": [
    "from sklearn.model_selection import train_test_split"
   ]
  },
  {
   "cell_type": "code",
   "execution_count": 21,
   "metadata": {},
   "outputs": [],
   "source": [
    "newdata=data[(data[\"Perpetrator Race\"]!=0)& (data[\"Perpetrator Sex\"]!=0)]\n",
    "newdata=newdata[newdata[\"Perpetrator Ethnicity\"]!=0]"
   ]
  },
  {
   "cell_type": "code",
   "execution_count": 22,
   "metadata": {},
   "outputs": [],
   "source": [
    "x=newdata[[\"State\",\"Year\",\"Month\",\"Victim Count\",\"Perpetrator Count\",\n",
    "           \"Victim Sex\",\"Victim Age\",\"Victim Race\",\"Victim Ethnicity\",\n",
    "          \"Weapon\",\"Relationship\",\"Crime Type\"]]\n",
    "y=newdata[[\"Perpetrator Sex\",\"Perpetrator Race\",\"Perpetrator Ethnicity\"]]"
   ]
  },
  {
   "cell_type": "code",
   "execution_count": 23,
   "metadata": {},
   "outputs": [],
   "source": [
    "x_train,x_test,y_train,y_test=train_test_split(x,y,test_size=0.2,random_state=6)"
   ]
  },
  {
   "cell_type": "code",
   "execution_count": 24,
   "metadata": {},
   "outputs": [],
   "source": [
    "from sklearn.ensemble import RandomForestClassifier \n",
    "from sklearn.linear_model import LogisticRegression \n",
    "from sklearn.linear_model import LinearRegression \n",
    "from sklearn.neighbors import KNeighborsClassifier\n",
    "from sklearn import metrics"
   ]
  },
  {
   "cell_type": "markdown",
   "metadata": {},
   "source": [
    "#### Predicting Perpetrator's Sex"
   ]
  },
  {
   "cell_type": "markdown",
   "metadata": {},
   "source": [
    "1. Logistic Regression"
   ]
  },
  {
   "cell_type": "code",
   "execution_count": 25,
   "metadata": {},
   "outputs": [
    {
     "name": "stdout",
     "output_type": "stream",
     "text": [
      "0.8895737567906393\n"
     ]
    }
   ],
   "source": [
    "loregsex=LogisticRegression(solver='lbfgs', multi_class='auto',dual = False,max_iter=1000)\n",
    "loregsex.fit(x_train,y_train[\"Perpetrator Sex\"])\n",
    "y_sex_pred=loregsex.predict(x_test)\n",
    "print(metrics.accuracy_score(y_test[\"Perpetrator Sex\"],y_sex_pred))"
   ]
  },
  {
   "cell_type": "markdown",
   "metadata": {},
   "source": [
    "2. Random Forest"
   ]
  },
  {
   "cell_type": "code",
   "execution_count": 26,
   "metadata": {},
   "outputs": [
    {
     "name": "stdout",
     "output_type": "stream",
     "text": [
      "0.9351755119097367\n"
     ]
    }
   ],
   "source": [
    "clfsex=RandomForestClassifier(n_estimators=100)\n",
    "clfsex.fit(x_train,y_train[\"Perpetrator Sex\"])\n",
    "y_sex_pred=clfsex.predict(x_test)\n",
    "print(metrics.accuracy_score(y_test[\"Perpetrator Sex\"],y_sex_pred))"
   ]
  },
  {
   "cell_type": "markdown",
   "metadata": {},
   "source": [
    "3. K-nearest neighbors"
   ]
  },
  {
   "cell_type": "code",
   "execution_count": 27,
   "metadata": {},
   "outputs": [
    {
     "name": "stdout",
     "output_type": "stream",
     "text": [
      "0.8940921437526118\n"
     ]
    }
   ],
   "source": [
    "knnsex=KNeighborsClassifier(n_neighbors=20)\n",
    "knnsex.fit(x_train,y_train[\"Perpetrator Sex\"])\n",
    "y_sex_pred=knnsex.predict(x_test)\n",
    "print(metrics.accuracy_score(y_test[\"Perpetrator Sex\"],y_sex_pred))"
   ]
  },
  {
   "cell_type": "markdown",
   "metadata": {},
   "source": [
    "4. Multi-Linear Regression"
   ]
  },
  {
   "cell_type": "code",
   "execution_count": 28,
   "metadata": {},
   "outputs": [
    {
     "name": "stdout",
     "output_type": "stream",
     "text": [
      "0.02924465610275273\n"
     ]
    }
   ],
   "source": [
    "modelsex=LinearRegression()\n",
    "modelsex.fit(x_train,y_train[\"Perpetrator Sex\"])\n",
    "y_sex_pred=modelsex.predict(x_test)\n",
    "print(metrics.r2_score(y_test[\"Perpetrator Sex\"],y_sex_pred))"
   ]
  },
  {
   "cell_type": "markdown",
   "metadata": {},
   "source": [
    "The best model in this case is the Random Forest"
   ]
  },
  {
   "cell_type": "markdown",
   "metadata": {},
   "source": [
    "#### Predicting Perpetrator's Race"
   ]
  },
  {
   "cell_type": "markdown",
   "metadata": {},
   "source": [
    "1. Logisitic Regression"
   ]
  },
  {
   "cell_type": "code",
   "execution_count": 29,
   "metadata": {},
   "outputs": [
    {
     "name": "stdout",
     "output_type": "stream",
     "text": [
      "0.8605307145842039\n"
     ]
    },
    {
     "name": "stderr",
     "output_type": "stream",
     "text": [
      "C:\\Users\\Kmar\\anaconda3\\lib\\site-packages\\sklearn\\linear_model\\logistic.py:947: ConvergenceWarning: lbfgs failed to converge. Increase the number of iterations.\n",
      "  \"of iterations.\", ConvergenceWarning)\n"
     ]
    }
   ],
   "source": [
    "loregrace=LogisticRegression(solver='lbfgs', multi_class='auto',dual = False,max_iter=1000)\n",
    "loregrace.fit(x_train,y_train[\"Perpetrator Race\"])\n",
    "y_race_pred=loregrace.predict(x_test)\n",
    "print(metrics.accuracy_score(y_test[\"Perpetrator Race\"],y_race_pred))"
   ]
  },
  {
   "cell_type": "markdown",
   "metadata": {},
   "source": [
    "2. Random Forest"
   ]
  },
  {
   "cell_type": "code",
   "execution_count": 30,
   "metadata": {},
   "outputs": [
    {
     "name": "stdout",
     "output_type": "stream",
     "text": [
      "0.869384663602173\n"
     ]
    }
   ],
   "source": [
    "clfrace=RandomForestClassifier(n_estimators=100)\n",
    "clfrace.fit(x_train,y_train[\"Perpetrator Race\"])\n",
    "y_race_pred=clfrace.predict(x_test)\n",
    "print(metrics.accuracy_score(y_test[\"Perpetrator Race\"],y_race_pred))"
   ]
  },
  {
   "cell_type": "markdown",
   "metadata": {},
   "source": [
    "3. K-nearest neighbors"
   ]
  },
  {
   "cell_type": "code",
   "execution_count": 31,
   "metadata": {},
   "outputs": [
    {
     "name": "stdout",
     "output_type": "stream",
     "text": [
      "0.6812055996656916\n"
     ]
    }
   ],
   "source": [
    "knnrace=KNeighborsClassifier(n_neighbors=20)\n",
    "knnrace.fit(x_train,y_train[\"Perpetrator Race\"])\n",
    "y_race_pred=knnrace.predict(x_test)\n",
    "print(metrics.accuracy_score(y_test[\"Perpetrator Race\"],y_race_pred))"
   ]
  },
  {
   "cell_type": "markdown",
   "metadata": {},
   "source": [
    "4. Multi-Linear Regression"
   ]
  },
  {
   "cell_type": "code",
   "execution_count": 32,
   "metadata": {},
   "outputs": [
    {
     "name": "stdout",
     "output_type": "stream",
     "text": [
      "0.49603926329148706\n"
     ]
    }
   ],
   "source": [
    "modelrace=LinearRegression()\n",
    "modelrace.fit(x_train,y_train[\"Perpetrator Race\"])\n",
    "y_race_pred=modelrace.predict(x_test)\n",
    "print(metrics.r2_score(y_test[\"Perpetrator Race\"],y_race_pred))"
   ]
  },
  {
   "cell_type": "markdown",
   "metadata": {},
   "source": [
    "Once again, Random Forest is te best model\n"
   ]
  },
  {
   "cell_type": "markdown",
   "metadata": {},
   "source": [
    "#### Perpetrator's Ethnicity"
   ]
  },
  {
   "cell_type": "markdown",
   "metadata": {},
   "source": [
    "1. logistic Regression"
   ]
  },
  {
   "cell_type": "code",
   "execution_count": 33,
   "metadata": {},
   "outputs": [
    {
     "name": "stdout",
     "output_type": "stream",
     "text": [
      "0.9018230254910155\n"
     ]
    }
   ],
   "source": [
    "loregethnicity=LogisticRegression(solver='lbfgs', multi_class='auto',dual = False,max_iter=1000)\n",
    "loregethnicity.fit(x_train,y_train[\"Perpetrator Ethnicity\"])\n",
    "y_ethnicity_pred=loregethnicity.predict(x_test)\n",
    "print(metrics.accuracy_score(y_test[\"Perpetrator Ethnicity\"],y_ethnicity_pred))"
   ]
  },
  {
   "cell_type": "markdown",
   "metadata": {},
   "source": [
    "2. Random Forest"
   ]
  },
  {
   "cell_type": "code",
   "execution_count": 34,
   "metadata": {},
   "outputs": [
    {
     "name": "stdout",
     "output_type": "stream",
     "text": [
      "0.8972262849979106\n"
     ]
    }
   ],
   "source": [
    "clfethnicity=RandomForestClassifier(n_estimators=100)\n",
    "clfethnicity.fit(x_train,y_train[\"Perpetrator Ethnicity\"])\n",
    "y_ethnicity_pred=clfethnicity.predict(x_test)\n",
    "print(metrics.accuracy_score(y_test[\"Perpetrator Ethnicity\"],y_ethnicity_pred))"
   ]
  },
  {
   "cell_type": "markdown",
   "metadata": {},
   "source": [
    "3. K-nearest neighbors"
   ]
  },
  {
   "cell_type": "code",
   "execution_count": 35,
   "metadata": {},
   "outputs": [
    {
     "name": "stdout",
     "output_type": "stream",
     "text": [
      "0.7983702465524446\n"
     ]
    }
   ],
   "source": [
    "knnethnicity=KNeighborsClassifier(n_neighbors=20)\n",
    "knnethnicity.fit(x_train,y_train[\"Perpetrator Ethnicity\"])\n",
    "y_ethnicity_pred=knnethnicity.predict(x_test)\n",
    "print(metrics.accuracy_score(y_test[\"Perpetrator Ethnicity\"],y_ethnicity_pred))"
   ]
  },
  {
   "cell_type": "markdown",
   "metadata": {},
   "source": [
    "4. Multi-linear Regression"
   ]
  },
  {
   "cell_type": "code",
   "execution_count": 36,
   "metadata": {},
   "outputs": [
    {
     "name": "stdout",
     "output_type": "stream",
     "text": [
      "0.4985478647281222\n"
     ]
    }
   ],
   "source": [
    "modelethnicity=LinearRegression()\n",
    "modelethnicity.fit(x_train,y_train[\"Perpetrator Ethnicity\"])\n",
    "y_ethnicity_pred=modelethnicity.predict(x_test)\n",
    "print(metrics.r2_score(y_test[\"Perpetrator Ethnicity\"],y_ethnicity_pred))"
   ]
  },
  {
   "cell_type": "markdown",
   "metadata": {},
   "source": [
    "the accuracy using logistic regression is higher than the accuracy using randomforest but it's just because logistic regression didn't use the whole data but only limited the maximum number of iterations to 1000 "
   ]
  },
  {
   "cell_type": "markdown",
   "metadata": {},
   "source": [
    "#### Predicting perpetrator's Age"
   ]
  },
  {
   "cell_type": "markdown",
   "metadata": {},
   "source": [
    "look next part "
   ]
  },
  {
   "cell_type": "code",
   "execution_count": null,
   "metadata": {},
   "outputs": [],
   "source": []
  },
  {
   "cell_type": "code",
   "execution_count": null,
   "metadata": {},
   "outputs": [],
   "source": []
  },
  {
   "cell_type": "code",
   "execution_count": null,
   "metadata": {},
   "outputs": [],
   "source": []
  }
 ],
 "metadata": {
  "kernelspec": {
   "display_name": "Python 3",
   "language": "python",
   "name": "python3"
  },
  "language_info": {
   "codemirror_mode": {
    "name": "ipython",
    "version": 3
   },
   "file_extension": ".py",
   "mimetype": "text/x-python",
   "name": "python",
   "nbconvert_exporter": "python",
   "pygments_lexer": "ipython3",
   "version": "3.7.7"
  }
 },
 "nbformat": 4,
 "nbformat_minor": 4
}
